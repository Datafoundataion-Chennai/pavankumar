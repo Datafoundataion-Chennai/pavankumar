{
 "cells": [
  {
   "cell_type": "code",
   "execution_count": null,
   "id": "f01c0d89-6412-45da-a7bd-01d81f4a8f7f",
   "metadata": {},
   "outputs": [],
   "source": [
    "from collections from ChainMap\n",
    "def"
   ]
  },
  {
   "cell_type": "code",
   "execution_count": 5,
   "id": "edf8fd67-9c26-4421-8783-b534b379c77e",
   "metadata": {},
   "outputs": [
    {
     "name": "stdout",
     "output_type": "stream",
     "text": [
      "{'x': 19, 'age': 134}\n"
     ]
    }
   ],
   "source": [
    "from collections import UserDict\n",
    "\n",
    "class MyDict(UserDict):\n",
    "    def __setitem__(self,key,value):\n",
    "        if not isinstance(value,int):\n",
    "            raise TypeError(\"Only integers allowed\")\n",
    "        if key=='age' and value<18:\n",
    "            raise ValueError(\"Underage!\")\n",
    "        super().__setitem__(key,value)\n",
    "\n",
    "customDict = MyDict()\n",
    "customDict['x'] = 19\n",
    "customDict['age'] = 134\n",
    "print(customDict)"
   ]
  },
  {
   "cell_type": "code",
   "execution_count": 6,
   "id": "288e9b0e-32e6-440f-aa1b-6d31e53505b3",
   "metadata": {},
   "outputs": [
    {
     "name": "stdout",
     "output_type": "stream",
     "text": [
      "[1, 2, 3, 4, 5, 0]\n"
     ]
    }
   ],
   "source": [
    "from collections import UserList\n",
    "class MyList(UserList):\n",
    "    def append(self,e):\n",
    "        if not isinstance(e,int):\n",
    "            raise TypeError(\"Only integers allowed\")\n",
    "        super().append(e)\n",
    "custom_li=MyList([1,2,3,4,5])\n",
    "custom_li.append(0)\n",
    "print(custom_li)"
   ]
  },
  {
   "cell_type": "code",
   "execution_count": 7,
   "id": "ad18fe92-4816-44bb-9bf7-c59836e15bb4",
   "metadata": {},
   "outputs": [
    {
     "name": "stdout",
     "output_type": "stream",
     "text": [
      "ChainMap({'name': 'john', 'location': 'NYC'}, {'name': 'Triveni', 'tech': 'JAva'})\n",
      "john\n",
      "ChainMap({'company': 'Revature', 'hq': 'West virigina'}, {'name': 'john', 'location': 'NYC'}, {'name': 'Triveni', 'tech': 'JAva'})\n",
      "{'x': 10}\n"
     ]
    }
   ],
   "source": [
    "from collections import ChainMap\n",
    "\n",
    "def get_chain_map():\n",
    "\n",
    "    di1={\"name\":\"Triveni\",\"tech\":\"JAva\"}\n",
    "    di2={\"name\":\"john\",\"location\":\"NYC\"}\n",
    "    chain=ChainMap(di2,di1)\n",
    "    print(chain)\n",
    "    print(chain[\"name\"])\n",
    "    return chain\n",
    "\n",
    "c=get_chain_map()\n",
    "di2={\"company\":\"Revature\",\"hq\":\"West virigina\"}\n",
    "c=c.new_child(di2)\n",
    "print(c)\n",
    "from collections import UserDict\n",
    "class MyDictionary(UserDict):\n",
    "    def setitem(self,key,value):\n",
    "        if not isinstance(value,int):\n",
    "            raise TypeError(\"Only integers allowed\")\n",
    "        if key==\"age\" and value <18:\n",
    "            raise ValueError(\"Underage\")\n",
    "        super().setitem(key,value)\n",
    "\n",
    "\n",
    "custom_di=MyDictionary()\n",
    "custom_di[\"x\"]=10\n",
    "#custom_di[\"y\"]=\"a\"\n",
    "print(custom_di)"
   ]
  },
  {
   "cell_type": "code",
   "execution_count": null,
   "id": "9b783898-a150-4818-9b2a-514019ab4e9a",
   "metadata": {},
   "outputs": [],
   "source": []
  }
 ],
 "metadata": {
  "kernelspec": {
   "display_name": "Python 3 (ipykernel)",
   "language": "python",
   "name": "python3"
  },
  "language_info": {
   "codemirror_mode": {
    "name": "ipython",
    "version": 3
   },
   "file_extension": ".py",
   "mimetype": "text/x-python",
   "name": "python",
   "nbconvert_exporter": "python",
   "pygments_lexer": "ipython3",
   "version": "3.12.7"
  }
 },
 "nbformat": 4,
 "nbformat_minor": 5
}
