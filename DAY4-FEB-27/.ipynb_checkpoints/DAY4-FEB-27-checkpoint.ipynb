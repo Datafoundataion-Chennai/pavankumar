{
 "cells": [
  {
   "cell_type": "code",
   "execution_count": 5,
   "id": "91f4bbd1-8cc5-4a7d-813c-94f7d862b7d4",
   "metadata": {},
   "outputs": [
    {
     "ename": "ValueError",
     "evalue": "slice step cannot be zero",
     "output_type": "error",
     "traceback": [
      "\u001b[1;31m----------------------------------------------------------------\u001b[0m",
      "\u001b[1;31mValueError\u001b[0m                     Traceback (most recent call last)",
      "Cell \u001b[1;32mIn[5], line 2\u001b[0m\n\u001b[0;32m      1\u001b[0m st \u001b[38;5;241m=\u001b[39m \u001b[38;5;124m\"\u001b[39m\u001b[38;5;124mpavankumar\u001b[39m\u001b[38;5;124m\"\u001b[39m\n\u001b[1;32m----> 2\u001b[0m \u001b[38;5;28mprint\u001b[39m(st[::\u001b[38;5;241m0\u001b[39m])\n",
      "\u001b[1;31mValueError\u001b[0m: slice step cannot be zero"
     ]
    }
   ],
   "source": [
    "st = \"pavankumar\"\n",
    "print(st[::0])"
   ]
  },
  {
   "cell_type": "code",
   "execution_count": 8,
   "id": "96b2e6c6-116f-4c96-b577-91ea0856cae5",
   "metadata": {},
   "outputs": [
    {
     "name": "stdout",
     "output_type": "stream",
     "text": [
      "asd\n"
     ]
    }
   ],
   "source": [
    "if not None:\n",
    "    print(\"asd\")"
   ]
  },
  {
   "cell_type": "code",
   "execution_count": 13,
   "id": "659a7736-9e38-456a-813a-1cbdbc32abb3",
   "metadata": {},
   "outputs": [
    {
     "name": "stdout",
     "output_type": "stream",
     "text": [
      "<__main__.Car object at 0x000001D7638FB770>\n",
      "Starting... lambo\n"
     ]
    }
   ],
   "source": [
    "class Car:\n",
    "    def __init__(self,br,m,p,c):\n",
    "        self.brand = br\n",
    "        self.model = m\n",
    "        self.price = p\n",
    "        self.color = c\n",
    "    def start(self,key):\n",
    "        print(self)\n",
    "        if key:\n",
    "            print(\"Starting...\" , self.brand)\n",
    "car1 = Car(\"lambo\",\"city\",12343244,\"Black\")\n",
    "car1.start(True)"
   ]
  },
  {
   "cell_type": "code",
   "execution_count": 15,
   "id": "1b76adbc-beef-4219-9492-301597b8ae66",
   "metadata": {},
   "outputs": [
    {
     "name": "stdout",
     "output_type": "stream",
     "text": [
      "Initialised\n"
     ]
    },
    {
     "ename": "TypeError",
     "evalue": "Test.addi() missing 1 required positional argument: 'z'",
     "output_type": "error",
     "traceback": [
      "\u001b[1;31m----------------------------------------------------------------\u001b[0m",
      "\u001b[1;31mTypeError\u001b[0m                      Traceback (most recent call last)",
      "Cell \u001b[1;32mIn[15], line 10\u001b[0m\n\u001b[0;32m      8\u001b[0m         \u001b[38;5;28mprint\u001b[39m(x\u001b[38;5;241m+\u001b[39my\u001b[38;5;241m+\u001b[39mz)\n\u001b[0;32m      9\u001b[0m t1 \u001b[38;5;241m=\u001b[39m Test()\n\u001b[1;32m---> 10\u001b[0m t1\u001b[38;5;241m.\u001b[39maddi(\u001b[38;5;241m3\u001b[39m,\u001b[38;5;241m1\u001b[39m)\n",
      "\u001b[1;31mTypeError\u001b[0m: Test.addi() missing 1 required positional argument: 'z'"
     ]
    }
   ],
   "source": [
    "#polymorphism\n",
    "class Test:\n",
    "    def __init__(self):\n",
    "        print(\"Initialised\")\n",
    "    def addi(self,x,y):\n",
    "        print(x+y)\n",
    "    def addi(self,x,y,z):\n",
    "        print(x+y+z)\n",
    "t1 = Test()\n",
    "t1.addi(3,1)"
   ]
  },
  {
   "cell_type": "code",
   "execution_count": 42,
   "id": "e8235ab3-ef07-41e7-be65-8a75a2b00b3c",
   "metadata": {},
   "outputs": [
    {
     "name": "stdout",
     "output_type": "stream",
     "text": [
      "Pavan  Player added in the Battle\n",
      "Assigned to Warrior\n",
      "Attack Power -  50\n",
      "Speed -  83\n",
      "Defence power -  200\n",
      "Additional power(Rage) -  2\n",
      "100\n",
      "\n",
      "Kumar  Player added in the Battle\n",
      "Assigned to Archer\n",
      "Attack Power -  20\n",
      "Speed -  42\n",
      "Defence power -  150\n",
      "Additional power(Critical Chance) -  12\n",
      "\n",
      "Ravi  Player added in the Battle\n",
      "Assigned to Mage\n",
      "Attack Power -  20\n",
      "Speed -  30\n",
      "Defence power -  160\n",
      "Additional power(Mana) -  boom boom\n",
      "\n"
     ]
    }
   ],
   "source": [
    "class Character:\n",
    "    def __init__(self,name,health,attack_power,defence,speed):\n",
    "        self.name = name\n",
    "        self.health = health\n",
    "        self.attack_power = attack_power\n",
    "        self.defence = defence\n",
    "        self.speed = speed\n",
    "        print(self.name,\" Player added in the Battle\")\n",
    "    def attack(self,target):\n",
    "        damage = max(self.attack_power - target.defense, 1)\n",
    "        target.take_damage(damage)\n",
    "        return damage\n",
    "    def take_damage(self,amount):\n",
    "        self.health -= amount\n",
    "        if self.health <0 :\n",
    "            self.health = 0\n",
    "    def is_alive(self):\n",
    "        return self.health>0\n",
    "            \n",
    "class Warrior(Character):\n",
    "    def __init__(self,name):\n",
    "        super().__init__(name,200,30,100,40)\n",
    "        self.rage = 0\n",
    "        # print(\"Assigned to Warrior\")\n",
    "    def attack(self,target):\n",
    "        if rage >5 \n",
    "    def berserkMode(self):\n",
    "        if \n",
    "\n",
    "class Mage(Character):\n",
    "    def __init__(self,name,attackP,defence,speed,mana):\n",
    "        super().__init__(name,attackP,defence,speed)\n",
    "        self.mana = mana\n",
    "        print(\"Assigned to Mage\")\n",
    "        print(\"Attack Power - \",attackP)\n",
    "        print(\"Speed - \",speed)\n",
    "        print(\"Defence power - \",defence)\n",
    "        print(\"Additional power(Mana) - \",mana)\n",
    "    def fireBall(self):\n",
    "        pass\n",
    "class Archer(Character):\n",
    "    def __init__(self,name,attackP,defence,speed,critical_chance):\n",
    "        super().__init__(name,attackP,defence,speed)\n",
    "        print(\"Assigned to Archer\")\n",
    "        print(\"Attack Power - \",attackP)\n",
    "        print(\"Speed - \",speed)\n",
    "        print(\"Defence power - \",defence)\n",
    "        print(\"Additional power(Critical Chance) - \",critical_chance)\n",
    "        self.critical_chance = critical_chance\n",
    "    def precisionShot(self):\n",
    "        pass\n",
    "\n",
    "\n",
    "W1 = Warrior(\"Pavan\",50,200,83,2)\n",
    "print(W1.health)\n",
    "print()\n",
    "Ar1 = Archer(\"Kumar\",20,150,42,12)\n",
    "print()\n",
    "Ma1 = Mage(\"Ravi\",20,160,30,\"boom boom\")\n",
    "print()\n"
   ]
  },
  {
   "cell_type": "code",
   "execution_count": null,
   "id": "054aa1bb-9b64-401a-b435-f81725159d65",
   "metadata": {},
   "outputs": [],
   "source": [
    "class Character:\n",
    "    def __init__(self,name,health,attack_power,defence,speed):\n",
    "            self.name = name\n",
    "            self.health = health\n",
    "            self.atta"
   ]
  },
  {
   "cell_type": "code",
   "execution_count": 41,
   "id": "b2542807-3af6-4179-b748-15e0bb8dea80",
   "metadata": {},
   "outputs": [
    {
     "name": "stdout",
     "output_type": "stream",
     "text": [
      "Protected Attribute\n",
      "Protected Method\n"
     ]
    },
    {
     "ename": "AttributeError",
     "evalue": "'Example' object has no attribute '__name'",
     "output_type": "error",
     "traceback": [
      "\u001b[1;31m----------------------------------------------------------------\u001b[0m",
      "\u001b[1;31mAttributeError\u001b[0m                 Traceback (most recent call last)",
      "Cell \u001b[1;32mIn[41], line 23\u001b[0m\n\u001b[0;32m     18\u001b[0m obj \u001b[38;5;241m=\u001b[39m Example()\n\u001b[0;32m     19\u001b[0m \u001b[38;5;66;03m# print(obj.__name)  # AttributeError\u001b[39;00m\n\u001b[0;32m     20\u001b[0m \u001b[38;5;66;03m# print(obj.__display())  # AttributeError\u001b[39;00m\n\u001b[0;32m     21\u001b[0m \n\u001b[0;32m     22\u001b[0m \u001b[38;5;66;03m# Accessing using name mangling\u001b[39;00m\n\u001b[1;32m---> 23\u001b[0m \u001b[38;5;28mprint\u001b[39m(obj\u001b[38;5;241m.\u001b[39m__name)  \u001b[38;5;66;03m# Works, but not recommended\u001b[39;00m\n\u001b[0;32m     24\u001b[0m \u001b[38;5;28mprint\u001b[39m(obj\u001b[38;5;241m.\u001b[39m__display())\n",
      "\u001b[1;31mAttributeError\u001b[0m: 'Example' object has no attribute '__name'"
     ]
    }
   ],
   "source": [
    "class Example:\n",
    "    def __init__(self):\n",
    "        self._name = \"Protected Attribute\"  # Protected variable\n",
    "\n",
    "    def _display(self):\n",
    "        return \"Protected Method\"\n",
    "\n",
    "obj = Example()\n",
    "print(obj._name)  # Accessible but should not be used directly\n",
    "print(obj._display())  # Accessible but not recommended\n",
    "class Example:\n",
    "    def __init__(self):\n",
    "        self.__name = \"Private Attribute\"  # Private variable\n",
    "\n",
    "    def __display(self):\n",
    "        return \"Private Method\"\n",
    "\n",
    "obj = Example()\n",
    "# print(obj.__name)  # AttributeError\n",
    "# print(obj.__display())  # AttributeError\n",
    "\n",
    "# Accessing using name mangling\n",
    "print(obj.__name)  # Works, but not recommended\n",
    "print(obj.__display())  # Works, but not recommended\n"
   ]
  },
  {
   "cell_type": "code",
   "execution_count": 35,
   "id": "65cdc4b0-a2e7-4b49-994e-36ad4935769b",
   "metadata": {},
   "outputs": [
    {
     "name": "stdout",
     "output_type": "stream",
     "text": [
      "Battle starts between Alex (Archer) and Thor (Warrior)!\n",
      "Alex attacks Thor and deals 10 damage!\n",
      "Thor attacks Alex and deals 15 damage!\n",
      "Alex attacks Thor and deals 10 damage!\n",
      "Thor attacks Alex and deals 15 damage!\n",
      "Alex attacks Thor and deals 5 damage!\n",
      "Thor attacks Alex and deals 15 damage!\n",
      "Alex attacks Thor and deals 5 damage!\n",
      "Thor attacks Alex and deals 15 damage!\n",
      "Alex attacks Thor and deals 10 damage!\n",
      "Thor attacks Alex and deals 15 damage!\n",
      "Alex attacks Thor and deals 10 damage!\n",
      "Thor attacks Alex and deals 15 damage!\n",
      "Alex attacks Thor and deals 5 damage!\n",
      "Thor attacks Alex and deals 15 damage!\n",
      "Alex attacks Thor and deals 5 damage!\n",
      "Thor attacks Alex and deals 15 damage!\n",
      "Alex is defeated!\n",
      "Thor wins the battle!\n",
      "\n",
      "Battle starts between Gandalf (Mage) and Alex (Archer)!\n",
      "Gandalf wins the battle!\n"
     ]
    }
   ],
   "source": [
    "import random\n",
    "\n",
    "# Base Class: Character\n",
    "class Character:\n",
    "    def __init__(self, name, health, attack_power, defense, speed):\n",
    "        self.name = name\n",
    "        self.health = health\n",
    "        self.attack_power = attack_power\n",
    "        self.defense = defense\n",
    "        self.speed = speed\n",
    "\n",
    "    def attack(self, target):\n",
    "        damage = max(self.attack_power - target.defense, 1)\n",
    "        target.take_damage(damage)\n",
    "        return damage\n",
    "\n",
    "    def take_damage(self, amount):\n",
    "        self.health -= amount\n",
    "        if self.health < 0:\n",
    "            self.health = 0\n",
    "\n",
    "    def is_alive(self):\n",
    "        return self.health > 0\n",
    "\n",
    "# Warrior Class (Melee Fighter)\n",
    "class Warrior(Character):\n",
    "    def __init__(self, name):\n",
    "        super().__init__(name, 150, 30, 20, 20)\n",
    "        self.rage = 0\n",
    "\n",
    "    def attack(self, target):\n",
    "        if self.health < 30:\n",
    "            self.attack_power *= 2\n",
    "        damage = super().attack(target)\n",
    "        if self.health < 30:\n",
    "            self.attack_power = 30  # Reset attack power after Berserk Mode\n",
    "        return damage\n",
    "\n",
    "    def take_damage(self, amount):\n",
    "        self.rage += amount\n",
    "        if self.rage >= 50:\n",
    "            self.attack_power *= 2  # Increase attack power when rage is full\n",
    "        super().take_damage(amount)\n",
    "\n",
    "# Mage Class (Spellcaster)\n",
    "class Mage(Character):\n",
    "    def __init__(self, name):\n",
    "        super().__init__(name, 100, 40, 10, 15)\n",
    "        self.mana = 50\n",
    "\n",
    "    def attack(self, target):\n",
    "        if self.mana >= 10:\n",
    "            self.mana -= 10\n",
    "            damage = 40\n",
    "            self.take_damage(5)  # Mage takes damage when using Fireball\n",
    "        else:\n",
    "            damage = super().attack(target)\n",
    "        return damage\n",
    "\n",
    "    def take_damage(self, amount):\n",
    "        super().take_damage(amount)\n",
    "\n",
    "# Archer Class (Ranged Attacker)\n",
    "class Archer(Character):\n",
    "    def __init__(self, name):\n",
    "        super().__init__(name, 120, 25, 15, 25)\n",
    "        self.critical_chance = 30  # 30% chance for a critical hit\n",
    "\n",
    "    def attack(self, target):\n",
    "        critical_hit = random.randint(1, 100) <= self.critical_chance\n",
    "        damage = super().attack(target)\n",
    "        if critical_hit:\n",
    "            damage *= 2  # Critical hit deals double damage\n",
    "        return damage\n",
    "\n",
    "# Function to determine the next turn based on speed\n",
    "def determine_turn_order(player1, player2):\n",
    "    if player1.speed > player2.speed:\n",
    "        return player1, player2\n",
    "    elif player1.speed < player2.speed:\n",
    "        return player2, player1\n",
    "    else:\n",
    "        return player1, player2  # Player 1 attacks first if speeds are equal\n",
    "\n",
    "# Battle Simulation\n",
    "def battle(player1, player2):\n",
    "    # Determine who goes first\n",
    "    attacker, defender = determine_turn_order(player1, player2)\n",
    "\n",
    "    while player1.is_alive() and player2.is_alive():\n",
    "        damage = attacker.attack(defender)\n",
    "        print(f\"{attacker.name} attacks {defender.name} and deals {damage} damage!\")\n",
    "        \n",
    "        if not defender.is_alive():\n",
    "            print(f\"{defender.name} is defeated!\")\n",
    "            break\n",
    "        \n",
    "        # Swap roles for the next turn\n",
    "        attacker, defender = defender, attacker\n",
    "\n",
    "    winner = player1 if player1.is_alive() else player2\n",
    "    print(f\"{winner.name} wins the battle!\")\n",
    "\n",
    "# Example of a battle between characters\n",
    "if __name__ == \"__main__\":\n",
    "    # Create characters\n",
    "    alex = Archer(\"Alex\")\n",
    "    thor = Warrior(\"Thor\")\n",
    "    gandalf = Mage(\"Gandalf\")\n",
    "\n",
    "    # Start battle\n",
    "    print(\"Battle starts between Alex (Archer) and Thor (Warrior)!\")\n",
    "    battle(alex, thor)\n",
    "\n",
    "    print(\"\\nBattle starts between Gandalf (Mage) and Alex (Archer)!\")\n",
    "    battle(gandalf, alex)\n"
   ]
  }
 ],
 "metadata": {
  "kernelspec": {
   "display_name": "Python 3 (ipykernel)",
   "language": "python",
   "name": "python3"
  },
  "language_info": {
   "codemirror_mode": {
    "name": "ipython",
    "version": 3
   },
   "file_extension": ".py",
   "mimetype": "text/x-python",
   "name": "python",
   "nbconvert_exporter": "python",
   "pygments_lexer": "ipython3",
   "version": "3.12.7"
  }
 },
 "nbformat": 4,
 "nbformat_minor": 5
}
