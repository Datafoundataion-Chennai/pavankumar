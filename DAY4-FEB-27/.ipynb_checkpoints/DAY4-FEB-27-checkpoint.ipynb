{
 "cells": [
  {
   "cell_type": "code",
   "execution_count": 5,
   "id": "91f4bbd1-8cc5-4a7d-813c-94f7d862b7d4",
   "metadata": {},
   "outputs": [
    {
     "ename": "ValueError",
     "evalue": "slice step cannot be zero",
     "output_type": "error",
     "traceback": [
      "\u001b[1;31m----------------------------------------------------------------\u001b[0m",
      "\u001b[1;31mValueError\u001b[0m                     Traceback (most recent call last)",
      "Cell \u001b[1;32mIn[5], line 2\u001b[0m\n\u001b[0;32m      1\u001b[0m st \u001b[38;5;241m=\u001b[39m \u001b[38;5;124m\"\u001b[39m\u001b[38;5;124mpavankumar\u001b[39m\u001b[38;5;124m\"\u001b[39m\n\u001b[1;32m----> 2\u001b[0m \u001b[38;5;28mprint\u001b[39m(st[::\u001b[38;5;241m0\u001b[39m])\n",
      "\u001b[1;31mValueError\u001b[0m: slice step cannot be zero"
     ]
    }
   ],
   "source": [
    "st = \"pavankumar\"\n",
    "print(st[::0])"
   ]
  },
  {
   "cell_type": "code",
   "execution_count": 8,
   "id": "96b2e6c6-116f-4c96-b577-91ea0856cae5",
   "metadata": {},
   "outputs": [
    {
     "name": "stdout",
     "output_type": "stream",
     "text": [
      "asd\n"
     ]
    }
   ],
   "source": [
    "if not None:\n",
    "    print(\"asd\")"
   ]
  },
  {
   "cell_type": "code",
   "execution_count": 13,
   "id": "659a7736-9e38-456a-813a-1cbdbc32abb3",
   "metadata": {},
   "outputs": [
    {
     "name": "stdout",
     "output_type": "stream",
     "text": [
      "<__main__.Car object at 0x000001D7638FB770>\n",
      "Starting... lambo\n"
     ]
    }
   ],
   "source": [
    "class Car:\n",
    "    def __init__(self,br,m,p,c):\n",
    "        self.brand = br\n",
    "        self.model = m\n",
    "        self.price = p\n",
    "        self.color = c\n",
    "    def start(self,key):\n",
    "        print(self)\n",
    "        if key:\n",
    "            print(\"Starting...\" , self.brand)\n",
    "car1 = Car(\"lambo\",\"city\",12343244,\"Black\")\n",
    "car1.start(True)"
   ]
  },
  {
   "cell_type": "code",
   "execution_count": null,
   "id": "1b76adbc-beef-4219-9492-301597b8ae66",
   "metadata": {},
   "outputs": [],
   "source": []
  }
 ],
 "metadata": {
  "kernelspec": {
   "display_name": "Python 3 (ipykernel)",
   "language": "python",
   "name": "python3"
  },
  "language_info": {
   "codemirror_mode": {
    "name": "ipython",
    "version": 3
   },
   "file_extension": ".py",
   "mimetype": "text/x-python",
   "name": "python",
   "nbconvert_exporter": "python",
   "pygments_lexer": "ipython3",
   "version": "3.12.7"
  }
 },
 "nbformat": 4,
 "nbformat_minor": 5
}
