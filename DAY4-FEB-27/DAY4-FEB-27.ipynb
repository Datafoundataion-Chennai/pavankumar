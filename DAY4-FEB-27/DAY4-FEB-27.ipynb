{
 "cells": [
  {
   "cell_type": "code",
   "execution_count": 5,
   "id": "91f4bbd1-8cc5-4a7d-813c-94f7d862b7d4",
   "metadata": {},
   "outputs": [
    {
     "ename": "ValueError",
     "evalue": "slice step cannot be zero",
     "output_type": "error",
     "traceback": [
      "\u001b[1;31m----------------------------------------------------------------\u001b[0m",
      "\u001b[1;31mValueError\u001b[0m                     Traceback (most recent call last)",
      "Cell \u001b[1;32mIn[5], line 2\u001b[0m\n\u001b[0;32m      1\u001b[0m st \u001b[38;5;241m=\u001b[39m \u001b[38;5;124m\"\u001b[39m\u001b[38;5;124mpavankumar\u001b[39m\u001b[38;5;124m\"\u001b[39m\n\u001b[1;32m----> 2\u001b[0m \u001b[38;5;28mprint\u001b[39m(st[::\u001b[38;5;241m0\u001b[39m])\n",
      "\u001b[1;31mValueError\u001b[0m: slice step cannot be zero"
     ]
    }
   ],
   "source": [
    "st = \"pavankumar\"\n",
    "print(st[::0])"
   ]
  },
  {
   "cell_type": "code",
   "execution_count": 8,
   "id": "96b2e6c6-116f-4c96-b577-91ea0856cae5",
   "metadata": {},
   "outputs": [
    {
     "name": "stdout",
     "output_type": "stream",
     "text": [
      "asd\n"
     ]
    }
   ],
   "source": [
    "if not None:\n",
    "    print(\"asd\")"
   ]
  },
  {
   "cell_type": "code",
   "execution_count": 13,
   "id": "659a7736-9e38-456a-813a-1cbdbc32abb3",
   "metadata": {},
   "outputs": [
    {
     "name": "stdout",
     "output_type": "stream",
     "text": [
      "<__main__.Car object at 0x000001D7638FB770>\n",
      "Starting... lambo\n"
     ]
    }
   ],
   "source": [
    "class Car:\n",
    "    def __init__(self,br,m,p,c):\n",
    "        self.brand = br\n",
    "        self.model = m\n",
    "        self.price = p\n",
    "        self.color = c\n",
    "    def start(self,key):\n",
    "        print(self)\n",
    "        if key:\n",
    "            print(\"Starting...\" , self.brand)\n",
    "car1 = Car(\"lambo\",\"city\",12343244,\"Black\")\n",
    "car1.start(True)"
   ]
  },
  {
   "cell_type": "code",
   "execution_count": 15,
   "id": "1b76adbc-beef-4219-9492-301597b8ae66",
   "metadata": {},
   "outputs": [
    {
     "name": "stdout",
     "output_type": "stream",
     "text": [
      "Initialised\n"
     ]
    },
    {
     "ename": "TypeError",
     "evalue": "Test.addi() missing 1 required positional argument: 'z'",
     "output_type": "error",
     "traceback": [
      "\u001b[1;31m----------------------------------------------------------------\u001b[0m",
      "\u001b[1;31mTypeError\u001b[0m                      Traceback (most recent call last)",
      "Cell \u001b[1;32mIn[15], line 10\u001b[0m\n\u001b[0;32m      8\u001b[0m         \u001b[38;5;28mprint\u001b[39m(x\u001b[38;5;241m+\u001b[39my\u001b[38;5;241m+\u001b[39mz)\n\u001b[0;32m      9\u001b[0m t1 \u001b[38;5;241m=\u001b[39m Test()\n\u001b[1;32m---> 10\u001b[0m t1\u001b[38;5;241m.\u001b[39maddi(\u001b[38;5;241m3\u001b[39m,\u001b[38;5;241m1\u001b[39m)\n",
      "\u001b[1;31mTypeError\u001b[0m: Test.addi() missing 1 required positional argument: 'z'"
     ]
    }
   ],
   "source": [
    "#polymorphism\n",
    "class Test:\n",
    "    def __init__(self):\n",
    "        print(\"Initialised\")\n",
    "    def addi(self,x,y):\n",
    "        print(x+y)\n",
    "    def addi(self,x,y,z):\n",
    "        print(x+y+z)\n",
    "t1 = Test()\n",
    "t1.addi(3,1)"
   ]
  },
  {
   "cell_type": "code",
   "execution_count": 34,
   "id": "e8235ab3-ef07-41e7-be65-8a75a2b00b3c",
   "metadata": {},
   "outputs": [
    {
     "name": "stdout",
     "output_type": "stream",
     "text": [
      "Pavan  Player added in the Battle\n",
      "Assigned to Warrior\n",
      "Attack Power -  50\n",
      "Speed -  83\n",
      "Defence power -  200\n",
      "Additional power(Rage) -  2\n",
      "100\n",
      "\n",
      "Kumar  Player added in the Battle\n",
      "Assigned to Archer\n",
      "Attack Power -  20\n",
      "Speed -  42\n",
      "Defence power -  150\n",
      "Additional power(Critical Chance) -  12\n",
      "\n",
      "Ravi  Player added in the Battle\n",
      "Assigned to Mage\n",
      "Attack Power -  20\n",
      "Speed -  30\n",
      "Defence power -  160\n",
      "Additional power(Mana) -  boom boom\n",
      "sreee  Player added in the Battle\n",
      "Assigned to Mage\n",
      "Attack Power -  20\n",
      "Speed -  30\n",
      "Defence power -  160\n",
      "Additional power(Mana) -  bom\n"
     ]
    }
   ],
   "source": [
    "class Character:\n",
    "    def __init__(self,name,attack_power,defence,speed,health=100):\n",
    "        self.name = name\n",
    "        self.health = health\n",
    "        self.attack_power = attack_power\n",
    "        self.defence = defence\n",
    "        self.speed = speed\n",
    "        print(self.name,\" Player added in the Battle\")\n",
    "    def attack(self):\n",
    "        pass\n",
    "    def take_damage(self):\n",
    "        pass\n",
    "    def is_alive(self):\n",
    "        pass\n",
    "            \n",
    "class Warrior(Character):\n",
    "    def __init__(self,name,attackP,defence,speed,rage=0):\n",
    "        super().__init__(name,attackP,defence,speed)\n",
    "        self.rage = rage\n",
    "        print(\"Assigned to Warrior\")\n",
    "        print(\"Attack Power - \",attackP)\n",
    "        print(\"Speed - \",self.speed)\n",
    "        print(\"Defence power - \",self.defence)\n",
    "        print(\"Additional power(Rage) - \",self.rage)\n",
    "    def berserkMode(self):\n",
    "        pass\n",
    "\n",
    "class Mage(Character):\n",
    "    def __init__(self,name,attackP,defence,speed,mana):\n",
    "        super().__init__(name,attackP,defence,speed)\n",
    "        self.mana = mana\n",
    "        print(\"Assigned to Mage\")\n",
    "        print(\"Attack Power - \",attackP)\n",
    "        print(\"Speed - \",speed)\n",
    "        print(\"Defence power - \",defence)\n",
    "        print(\"Additional power(Mana) - \",mana)\n",
    "    def fireBall(self):\n",
    "        pass\n",
    "class Archer(Character):\n",
    "    def __init__(self,name,attackP,defence,speed,critical_chance):\n",
    "        super().__init__(name,attackP,defence,speed)\n",
    "        print(\"Assigned to Archer\")\n",
    "        print(\"Attack Power - \",attackP)\n",
    "        print(\"Speed - \",speed)\n",
    "        print(\"Defence power - \",defence)\n",
    "        print(\"Additional power(Critical Chance) - \",critical_chance)\n",
    "        self.critical_chance = critical_chance\n",
    "    def precisionShot(self):\n",
    "        pass\n",
    "\n",
    "\n",
    "W1 = Warrior(\"Pavan\",50,200,83,2)\n",
    "print(W1.health)\n",
    "print()\n",
    "Ar1 = Archer(\"Kumar\",20,150,42,12)\n",
    "print()\n",
    "Ma1 = Mage(\"Ravi\",20,160,30,\"boom boom\")\n",
    "print()\n"
   ]
  }
 ],
 "metadata": {
  "kernelspec": {
   "display_name": "Python 3 (ipykernel)",
   "language": "python",
   "name": "python3"
  },
  "language_info": {
   "codemirror_mode": {
    "name": "ipython",
    "version": 3
   },
   "file_extension": ".py",
   "mimetype": "text/x-python",
   "name": "python",
   "nbconvert_exporter": "python",
   "pygments_lexer": "ipython3",
   "version": "3.12.7"
  }
 },
 "nbformat": 4,
 "nbformat_minor": 5
}
