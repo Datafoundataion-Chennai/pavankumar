{
 "cells": [
  {
   "cell_type": "code",
   "execution_count": 6,
   "id": "c7f6c4de-1123-4b12-a1ec-4409a0dce4a8",
   "metadata": {},
   "outputs": [
    {
     "name": "stdout",
     "output_type": "stream",
     "text": [
      "No match\n"
     ]
    }
   ],
   "source": [
    "import re\n",
    "\n",
    "text = \"Hello, welcome to Python!\"\n",
    "pattern = r\"welcome\"\n",
    "\n",
    "match = re.match(pattern, text)\n",
    "if match:\n",
    "    print(\"Match found:\", match.group())  # Output: Match found: Hello\n",
    "else:\n",
    "    print(\"No match\")\n"
   ]
  },
  {
   "cell_type": "code",
   "execution_count": 4,
   "id": "322f7f6b-b4da-4322-9098-592120684d4b",
   "metadata": {
    "panel-layout": {
     "height": 0,
     "visible": true,
     "width": 100
    }
   },
   "outputs": [
    {
     "name": "stdout",
     "output_type": "stream",
     "text": [
      "Found at index: 19\n",
      "Hello\n"
     ]
    }
   ],
   "source": [
    "text = \"Welcome to Python. Hello World!\"\n",
    "pattern = r\"Hello\"\n",
    "\n",
    "match = re.search(pattern, text)\n",
    "if match:\n",
    "    print(\"Found at index:\", match.start())  # Output: Found at index: 19\n",
    "print(match.group())"
   ]
  },
  {
   "cell_type": "code",
   "execution_count": 5,
   "id": "1c9c70d6-2b45-4dbe-92b8-e27a099aff39",
   "metadata": {
    "panel-layout": {
     "height": 0,
     "visible": true,
     "width": 100
    }
   },
   "outputs": [
    {
     "name": "stdout",
     "output_type": "stream",
     "text": [
      "['apple', 'apple']\n"
     ]
    }
   ],
   "source": [
    "text = \"apple, banana, apple, mango\"\n",
    "pattern = r\"apple\"\n",
    "\n",
    "matches = re.findall(pattern, text)\n",
    "print(matches)  # Output: ['apple', 'apple']\n"
   ]
  },
  {
   "cell_type": "code",
   "execution_count": 11,
   "id": "c4945225-ab62-4332-b0f0-145bebc64419",
   "metadata": {
    "panel-layout": {
     "height": 0,
     "visible": true,
     "width": 100
    }
   },
   "outputs": [
    {
     "name": "stdout",
     "output_type": "stream",
     "text": [
      "123\n",
      "456\n",
      "789\n",
      "<callable_iterator object at 0x000001B34BC351E0>\n"
     ]
    }
   ],
   "source": [
    "text = \"apple 123 banana 456 apple 789\"\n",
    "pattern = r\"\\d+\"\n",
    "\n",
    "matches = re.finditer(pattern, text)\n",
    "for match in matches:\n",
    "    print(match.group())  # Output: 123, 456, 789\n",
    "print(matches)"
   ]
  },
  {
   "cell_type": "code",
   "execution_count": 12,
   "id": "f9f7c9f6-4625-4818-9ad8-8e166be85884",
   "metadata": {
    "panel-layout": {
     "height": 0,
     "visible": true,
     "width": 100
    }
   },
   "outputs": [
    {
     "name": "stdout",
     "output_type": "stream",
     "text": [
      "The price is XXX dollars. XXX\n"
     ]
    }
   ],
   "source": [
    "text = \"The price is 100 dollars. 3456\"\n",
    "pattern = r\"\\d+\"\n",
    "\n",
    "new_text = re.sub(pattern, \"XXX\", text)\n",
    "print(new_text)  # Output: The price is XXX dollars.\n"
   ]
  },
  {
   "cell_type": "code",
   "execution_count": 13,
   "id": "1c5966ed-be9e-497d-ab79-2adc3491c2b6",
   "metadata": {
    "panel-layout": {
     "height": 0,
     "visible": true,
     "width": 100
    }
   },
   "outputs": [
    {
     "name": "stdout",
     "output_type": "stream",
     "text": [
      "['apple', 'banana', 'mango']\n"
     ]
    }
   ],
   "source": [
    "text = \"apple123banana456mango\"\n",
    "pattern = r\"\\d+\"\n",
    "\n",
    "result = re.split(pattern, text)\n",
    "print(result)  # Output: ['apple', 'banana', 'mango']\n"
   ]
  },
  {
   "cell_type": "code",
   "execution_count": 15,
   "id": "0202152d-98fe-4ec6-93a9-414c91eee3c3",
   "metadata": {},
   "outputs": [
    {
     "name": "stdout",
     "output_type": "stream",
     "text": [
      "Invalid email\n"
     ]
    }
   ],
   "source": [
    "import re\n",
    "\n",
    "email_pattern = r\"^[a-zA-Z0-9_.+-]+@[a-zA-Z0-9-]+\\.[a-zA-Z]{2,}$\"\n",
    "email = \"test@example.c\"\n",
    "\n",
    "if re.match(email_pattern, email):\n",
    "    print(\"Valid email\")\n",
    "else:\n",
    "    print(\"Invalid email\")\n"
   ]
  },
  {
   "cell_type": "code",
   "execution_count": 23,
   "id": "e13734bd-ecf8-4d40-ad7f-6bb94b064536",
   "metadata": {
    "panel-layout": {
     "height": 0,
     "visible": true,
     "width": 100
    }
   },
   "outputs": [
    {
     "name": "stdout",
     "output_type": "stream",
     "text": [
      "['hri-asd', 'tri-wer']\n",
      "['Padf', 'ERer']\n"
     ]
    }
   ],
   "source": [
    "text = \"adfas hri-asd sadf tri-wer aaa ert t t yt y  rtrr aaa Padf ERer adfs A\"\n",
    "match = re.findall(r\"\\w+-\\w+\",text)\n",
    "mat = re.findall(r\"\\w+\\saaa\",text)\n",
    "mat = re.findall(r\"[A-Z]\\w+\",text)\n",
    "\n",
    "\n",
    "print(match)\n",
    "print(mat)"
   ]
  },
  {
   "cell_type": "code",
   "execution_count": null,
   "id": "bf237c8e-61ca-48e7-8cd5-8b3628dffb51",
   "metadata": {},
   "outputs": [],
   "source": []
  }
 ],
 "metadata": {
  "kernelspec": {
   "display_name": "Python 3 (ipykernel)",
   "language": "python",
   "name": "python3"
  },
  "language_info": {
   "codemirror_mode": {
    "name": "ipython",
    "version": 3
   },
   "file_extension": ".py",
   "mimetype": "text/x-python",
   "name": "python",
   "nbconvert_exporter": "python",
   "pygments_lexer": "ipython3",
   "version": "3.12.7"
  },
  "panel-cell-order": [
   "322f7f6b-b4da-4322-9098-592120684d4b",
   "1c9c70d6-2b45-4dbe-92b8-e27a099aff39",
   "c4945225-ab62-4332-b0f0-145bebc64419",
   "f9f7c9f6-4625-4818-9ad8-8e166be85884",
   "1c5966ed-be9e-497d-ab79-2adc3491c2b6",
   "e13734bd-ecf8-4d40-ad7f-6bb94b064536"
  ]
 },
 "nbformat": 4,
 "nbformat_minor": 5
}
