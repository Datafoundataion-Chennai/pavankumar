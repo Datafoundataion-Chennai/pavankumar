{
 "cells": [
  {
   "cell_type": "code",
   "execution_count": 13,
   "id": "7d1d497e-8213-4335-86b3-888029efed99",
   "metadata": {},
   "outputs": [
    {
     "name": "stdout",
     "output_type": "stream",
     "text": [
      "30\n",
      "None\n",
      "4\n",
      "None\n"
     ]
    }
   ],
   "source": [
    "### Second largest in list of elements\n",
    "#x = input().split()\n",
    "def second_largest(x):\n",
    "    m1 = int(x[0])\n",
    "    smax = int(x[0])\n",
    "    for i in x:\n",
    "        if int(i) > m1:\n",
    "            smax = m1\n",
    "            m1 = int(i)       \n",
    "    if smax==m1 or len(x)==1: \n",
    "        return None \n",
    "    else: \n",
    "        return smax\n",
    "print(second_largest([10, 20, 20, 30, 40]))  # Output: 30\n",
    "print(second_largest([5, 5, 5, 5]))          # Output: None\n",
    "print(second_largest([1, 2, 3, 4, 5]))       # Output: 4\n",
    "print(second_largest([100])) \n"
   ]
  },
  {
   "cell_type": "code",
   "execution_count": 2,
   "id": "25dfb148-b3a7-4a3d-ab05-d84a1a1fc643",
   "metadata": {},
   "outputs": [
    {
     "name": "stdout",
     "output_type": "stream",
     "text": [
      "{'hello': 2, 'world': 1}\n",
      "{'python': 2, 'is': 2, 'great': 1, 'and': 1, 'fun': 1}\n"
     ]
    }
   ],
   "source": [
    "#Write a program that takes a sentence and returns a dictionary with word counts.\n",
    "# sentence = input().split()\n",
    "def word_frequency(sentence):\n",
    "    dic = {}\n",
    "    sentence = sentence.split()\n",
    "    for i in sentence:\n",
    "        i = i.lower()\n",
    "        if i in dic.keys():\n",
    "            dic[i]  = dic[i] +1\n",
    "        else:\n",
    "            dic[i] = 1\n",
    "    return(dic)\n",
    "print(word_frequency(\"Hello world hello\"))  \n",
    "print(word_frequency(\"Python is great and Python is fun\"))"
   ]
  },
  {
   "cell_type": "code",
   "execution_count": 25,
   "id": "dade1ea6-1863-4f98-94d2-d06843566d1f",
   "metadata": {},
   "outputs": [
    {
     "name": "stdout",
     "output_type": "stream",
     "text": [
      "{'a': 10, 'b': 25, 'c': 15}\n",
      "{'x': 1, 'y': 5, 'z': 4}\n"
     ]
    }
   ],
   "source": [
    "#Write a function that merges two dictionaries. If a key exists in both, sum the values.\n",
    "def merge_dicts(dic1,dic2):\n",
    "    result = dic1;\n",
    "    for i in dic2.keys():\n",
    "        if i in result.keys():\n",
    "            result[i] = result[i] + dic2[i]\n",
    "        else:\n",
    "            result[i] = dic2[i]\n",
    "    return result\n",
    "                \n",
    "\n",
    "print(merge_dicts({'a': 10, 'b': 20}, {'b': 5, 'c': 15})) \n",
    "print(merge_dicts({'x': 1, 'y': 2}, {'y': 3, 'z': 4}))"
   ]
  },
  {
   "cell_type": "markdown",
   "id": "a0e3c857-c43c-49cd-a7a4-9788584852a3",
   "metadata": {},
   "source": [
    "4)Given an 𝑀×𝑁\r\n",
    "M×N matrix, compute the sum of all border elements (first row, last row, first column, last column).\r\n",
    "Input:\r\n",
    "matrix = [\r\n",
    "    [1, 2, 3, 4],\r\n",
    "    [5, 6, 7, 8],\r\n",
    "    [9, 10, 11, 12],\r\n",
    "    [13, 14, 15, 16]\r\n",
    "]\r\n",
    "\r\n",
    "Output: 102\r\n",
    "(1+2+3+4+13+14+15+16+5+9+8+12=102)\r\n",
    " "
   ]
  },
  {
   "cell_type": "code",
   "execution_count": 11,
   "id": "c1ab307a-3252-400b-8797-7e2dafb3cc8f",
   "metadata": {},
   "outputs": [
    {
     "name": "stdout",
     "output_type": "stream",
     "text": [
      "102\n"
     ]
    }
   ],
   "source": [
    "matrix = [\n",
    "    [1, 2, 3, 4],\n",
    "    [5, 6, 7, 8],\n",
    "    [9, 10, 11, 12],\n",
    "    [13, 14, 15, 16]\n",
    "]\n",
    "\n",
    "sum = 0\n",
    "for i in range(len(matrix)):\n",
    "    for j in range(len(matrix[i])):\n",
    "        if i==0 or j==0 or (i==len(matrix)-1) or (j ==len(matrix)-1):\n",
    "            sum += matrix[i][j]\n",
    "print(sum)"
   ]
  },
  {
   "cell_type": "markdown",
   "id": "7bedeaf5-19a8-449a-b1b1-b5d95bdfcb6a",
   "metadata": {},
   "source": [
    ")Given an \r\n",
    "𝑀×𝑁\r\n",
    "M×N matrix, print its elements in spiral order.\r\n",
    "Input:\r\n",
    "matrix = [\r\n",
    "    [1,  2,  3,  4],\r\n",
    "    [5,  6,  7,  8],\r\n",
    "    [9, 10, 11, 12]\r\n",
    "]\r\n",
    "\r\n",
    "Output:\r\n",
    "[1, 2, 3, 4, 8, 12, 11, 10, 9, 5, 6, 7]"
   ]
  },
  {
   "cell_type": "code",
   "execution_count": 47,
   "id": "4a0ac011-f982-4554-a240-eb8b28d5eca1",
   "metadata": {},
   "outputs": [
    {
     "name": "stdout",
     "output_type": "stream",
     "text": [
      "1 2 3 4 5 8 9 10 11 12 "
     ]
    }
   ],
   "source": [
    "matrix = [\n",
    "    [1,  2,  3,  4],\n",
    "    [5,  6,  7,  8],\n",
    "    [9, 10, 11, 12]\n",
    "]\n",
    "i =0\n",
    "j =0\n",
    "for i in range(len(matrix)):\n",
    "    for j in range(len(matrix[i])):\n",
    "        if i==0 or j==0 or (i==len(matrix)-1) or (j ==len(matrix[0])-1):\n",
    "            print(matrix[i][j],end=\" \")\n",
    "\n"
   ]
  },
  {
   "cell_type": "markdown",
   "id": "167dfcca-16bc-4b38-b01b-1e05e4c321dd",
   "metadata": {},
   "source": [
    "Given a list and an integer k, rotate the list to the right by k positions.\r\n",
    "Example:\r\n",
    "Input:\r\n",
    "nums = [1, 2, 3, 4, 5]\r\n",
    "k = 2\r\n",
    "Output:\r\n",
    "[4, 5, 1, 2, 3]\n"
   ]
  },
  {
   "cell_type": "code",
   "execution_count": 31,
   "id": "71b066ec-f2e6-47e6-b16a-4f84694cb29a",
   "metadata": {},
   "outputs": [
    {
     "name": "stdout",
     "output_type": "stream",
     "text": [
      "[2, 3, 4, 5, 1]\n"
     ]
    }
   ],
   "source": [
    "nums = [1, 2, 3, 4, 5]\n",
    "k = 4\n",
    "for i in range(k):\n",
    "    r = nums.pop()\n",
    "    nums.insert(0,r)\n",
    "print(nums)"
   ]
  },
  {
   "cell_type": "markdown",
   "id": "705deb41-179a-4bbf-b1c4-d537c6a499df",
   "metadata": {},
   "source": [
    " Given a list and a target sum, return all unique pairs of numbers that add up to the target.\r\n",
    "Example:\r\n",
    "Input:\r\n",
    "nums = [1, 2, 3, 4, 5, 6, 7, 8]\r\n",
    "target = 9\r\n",
    "Output:\r\n",
    "[(1, 8), (2, 7), (3, 6), (4, 5)]"
   ]
  },
  {
   "cell_type": "code",
   "execution_count": 19,
   "id": "106719df-d52a-4755-93b0-cfe05eda0a62",
   "metadata": {},
   "outputs": [
    {
     "name": "stdout",
     "output_type": "stream",
     "text": [
      "[(1, 8), (2, 7), (3, 6), (4, 5)]\n"
     ]
    }
   ],
   "source": [
    "nums = [1, 2, 3, 4, 5, 6, 7, 8]\n",
    "target = 9\n",
    "result =[]\n",
    "for i in range(0,len(nums)):\n",
    "    for j in range(i,len(nums)):\n",
    "        if nums[i]+nums[j] ==9:\n",
    "            result.append((nums[i],nums[j]))\n",
    "print(result)"
   ]
  },
  {
   "cell_type": "code",
   "execution_count": 51,
   "id": "d63f880a-524b-4544-8fdd-28b303cf0efd",
   "metadata": {},
   "outputs": [
    {
     "name": "stdout",
     "output_type": "stream",
     "text": [
      "3\n",
      "2\n",
      "1\n"
     ]
    }
   ],
   "source": [
    "for i in range(3,0,-1):\n",
    "    print(i)"
   ]
  },
  {
   "cell_type": "code",
   "execution_count": 1,
   "id": "f04c0e9e-39bd-4315-8275-af24c08783b8",
   "metadata": {},
   "outputs": [
    {
     "name": "stdout",
     "output_type": "stream",
     "text": [
      "3\n"
     ]
    }
   ],
   "source": [
    "def count_islands(grid):\n",
    "    if not grid or not grid[0]:\n",
    "        return 0\n",
    "\n",
    "    rows, cols = len(grid), len(grid[0])\n",
    "    island_count = 0\n",
    "\n",
    "    def dfs(r, c):\n",
    "        if r < 0 or r >= rows or c < 0 or c >= cols or grid[r][c] == 0:\n",
    "            return\n",
    "        grid[r][c] = 0  # Mark visited\n",
    "        # Visit adjacent cells (up, down, left, right)\n",
    "        dfs(r + 1, c)\n",
    "        dfs(r - 1, c)\n",
    "        dfs(r, c + 1)\n",
    "        dfs(r, c - 1)\n",
    "\n",
    "    for r in range(rows):\n",
    "        for c in range(cols):\n",
    "            if grid[r][c] == 1:  # Found an island\n",
    "                island_count += 1\n",
    "                dfs(r, c)  # Explore and mark all connected land as visited\n",
    "\n",
    "    return island_count\n",
    "\n",
    "# Example usage:\n",
    "grid = [\n",
    "    [1, 1, 0, 0, 0],\n",
    "    [1, 1, 0, 0, 0],\n",
    "    [0, 0, 1, 0, 0],\n",
    "    [0, 0, 0, 1, 1]\n",
    "]\n",
    "\n",
    "print(count_islands(grid))\n"
   ]
  },
  {
   "cell_type": "code",
   "execution_count": 3,
   "id": "bc10ced2-098f-428f-ad15-be6df91cd8ee",
   "metadata": {},
   "outputs": [
    {
     "name": "stdout",
     "output_type": "stream",
     "text": [
      "Saddle Point: 7 at (2, 0)\n"
     ]
    }
   ],
   "source": [
    "def find_saddle_point(matrix):\n",
    "    rows = len(matrix)\n",
    "    cols = len(matrix[0])\n",
    "\n",
    "    for i in range(rows):\n",
    "        # Step 1: Find the minimum element in the row and its column index\n",
    "        min_row_value = min(matrix[i])\n",
    "        col_index = matrix[i].index(min_row_value)\n",
    "\n",
    "        # Step 2: Find the maximum in that column explicitly\n",
    "        max_in_col = matrix[0][col_index]  # Assume the first value is max\n",
    "        for row in range(rows):\n",
    "            if matrix[row][col_index] > max_in_col:\n",
    "                max_in_col = matrix[row][col_index]\n",
    "\n",
    "        # Step 3: Check if the row minimum is also the column maximum\n",
    "        if min_row_value == max_in_col:\n",
    "            return f\"Saddle Point: {min_row_value} at ({i}, {col_index})\"\n",
    "\n",
    "    return \"No saddle point exists.\"\n",
    "\n",
    "# Example usage:\n",
    "matrix = [\n",
    "    [1, 2, 3],\n",
    "    [4, 5, 6],\n",
    "    [7, 8, 9]\n",
    "]\n",
    "\n",
    "print(find_saddle_point(matrix))\n"
   ]
  }
 ],
 "metadata": {
  "kernelspec": {
   "display_name": "Python 3 (ipykernel)",
   "language": "python",
   "name": "python3"
  },
  "language_info": {
   "codemirror_mode": {
    "name": "ipython",
    "version": 3
   },
   "file_extension": ".py",
   "mimetype": "text/x-python",
   "name": "python",
   "nbconvert_exporter": "python",
   "pygments_lexer": "ipython3",
   "version": "3.12.7"
  }
 },
 "nbformat": 4,
 "nbformat_minor": 5
}
