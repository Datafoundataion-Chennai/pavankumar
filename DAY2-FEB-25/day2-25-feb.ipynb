{
 "cells": [
  {
   "cell_type": "code",
   "execution_count": 3,
   "id": "a7d14a4b-0381-4a45-827e-bc08f423d4ad",
   "metadata": {},
   "outputs": [
    {
     "name": "stdout",
     "output_type": "stream",
     "text": [
      "0\n"
     ]
    }
   ],
   "source": [
    "list =[]\n",
    "print(len(list))"
   ]
  },
  {
   "cell_type": "markdown",
   "id": "f7c403a7-3fe1-4cce-9424-1002eeabba7d",
   "metadata": {},
   "source": [
    "operators\n",
    "arithmetic\n",
    "+ - * / // % **\n",
    "relational \n",
    "== > < >= <= !=\n",
    "logical \n",
    " and or not\n",
    "assignment\n",
    "= += -+ *= /= %=\n",
    "bitwise \n",
    ">> << & | ^ ~\n",
    "identity \n",
    "is, is not\n",
    "membership operator\n",
    "in not in"
   ]
  },
  {
   "cell_type": "code",
   "execution_count": 5,
   "id": "61c396ec-106c-41f2-b235-08ff26f9b890",
   "metadata": {},
   "outputs": [
    {
     "name": "stdout",
     "output_type": "stream",
     "text": [
      "10\n",
      "2\n"
     ]
    }
   ],
   "source": [
    "c = 5\n",
    "print(c<<1) #0101--> 1010\n",
    "print(c>>1)"
   ]
  },
  {
   "cell_type": "code",
   "execution_count": 2,
   "id": "5ae3aeb5-6c42-4167-8dfd-72b2da879504",
   "metadata": {},
   "outputs": [
    {
     "name": "stdin",
     "output_type": "stream",
     "text": [
      "Enter number 8\n"
     ]
    },
    {
     "name": "stdout",
     "output_type": "stream",
     "text": [
      "even\n"
     ]
    }
   ],
   "source": [
    "i = int(input(\"Enter number\"))\n",
    "if i<0:\n",
    "    print(\"-\")\n",
    "elif i>0:\n",
    "    if i%2 ==0:\n",
    "        print(\"even\")\n",
    "    else:\n",
    "        print(\"Odd\")\n",
    "else:\n",
    "    print(0)"
   ]
  },
  {
   "cell_type": "code",
   "execution_count": 8,
   "id": "72478e8f-7e4b-41ef-bc75-1e75e5bdec6a",
   "metadata": {},
   "outputs": [
    {
     "name": "stdout",
     "output_type": "stream",
     "text": [
      "3\n",
      "5\n",
      "7\n",
      "9\n"
     ]
    }
   ],
   "source": [
    "o=1\n",
    "while o<10:\n",
    "    o+=1\n",
    "    if o%2 ==0:\n",
    "        continue\n",
    "    print(o)\n"
   ]
  },
  {
   "cell_type": "code",
   "execution_count": 9,
   "id": "7d5607a0-2f54-433b-9f24-a728bbf5817f",
   "metadata": {},
   "outputs": [
    {
     "name": "stdin",
     "output_type": "stream",
     "text": [
      "Enter name pfpf\n"
     ]
    },
    {
     "name": "stdout",
     "output_type": "stream",
     "text": [
      "pfpf\n"
     ]
    }
   ],
   "source": [
    "name = input(\"Enter name\")\n",
    "print(name)"
   ]
  },
  {
   "cell_type": "markdown",
   "id": "8d5b076a-40a3-4abf-81e8-9a155441b6d9",
   "metadata": {},
   "source": [
    "### x,y = int(input(\"enter numbe\")).split()\n",
    "print(type(x))\n"
   ]
  },
  {
   "cell_type": "code",
   "execution_count": null,
   "id": "f2fc34ed-b97f-4a12-afea-557987216e66",
   "metadata": {},
   "outputs": [],
   "source": []
  },
  {
   "cell_type": "markdown",
   "id": "26d3aeae-4d71-4c7b-bb3b-20f8bfd26b83",
   "metadata": {},
   "source": [
    "### Second largest in list of elements\n",
    "x = input().split()\n",
    "m1 = int(x[0])\n",
    "smax = int(x[0])\n",
    "for i in x:\n",
    "    if int(i) > m1:\n",
    "       m1 = int(i)\n",
    "       smax = m1\n",
    "print(smax)\n",
    "    "
   ]
  },
  {
   "cell_type": "code",
   "execution_count": null,
   "id": "b790afdb-9d6a-494f-b530-1b574b03724a",
   "metadata": {},
   "outputs": [],
   "source": []
  },
  {
   "cell_type": "code",
   "execution_count": null,
   "id": "b958fde5-62be-4b0a-9c3a-d9d4b528223b",
   "metadata": {},
   "outputs": [],
   "source": []
  }
 ],
 "metadata": {
  "kernelspec": {
   "display_name": "Python 3 (ipykernel)",
   "language": "python",
   "name": "python3"
  },
  "language_info": {
   "codemirror_mode": {
    "name": "ipython",
    "version": 3
   },
   "file_extension": ".py",
   "mimetype": "text/x-python",
   "name": "python",
   "nbconvert_exporter": "python",
   "pygments_lexer": "ipython3",
   "version": "3.12.7"
  }
 },
 "nbformat": 4,
 "nbformat_minor": 5
}
