{
 "cells": [
  {
   "cell_type": "code",
   "execution_count": 1,
   "id": "ba4f2f88-0ac9-4a3b-a961-f924271071cb",
   "metadata": {},
   "outputs": [
    {
     "name": "stdin",
     "output_type": "stream",
     "text": [
      " 7\n",
      " 10 1 2 7 6 1 5\n",
      " 8\n"
     ]
    },
    {
     "name": "stdout",
     "output_type": "stream",
     "text": [
      "1 1 6\n",
      "1 2 5\n",
      "1 7\n",
      "2 6\n"
     ]
    }
   ],
   "source": [
    "def findGoldCombinations(rooms, capacity):\n",
    "    def backtrack(start, target, path):\n",
    "        if target == 0:\n",
    "            result.append(path[:])\n",
    "            return\n",
    "        for i in range(start, len(rooms)):\n",
    "            if i > start and rooms[i] == rooms[i - 1]:\n",
    "                continue\n",
    "            if rooms[i] > target:\n",
    "                break\n",
    "            backtrack(i + 1, target - rooms[i], path + [rooms[i]])\n",
    "\n",
    "    rooms.sort()\n",
    "    result = []\n",
    "    backtrack(0, capacity, [])\n",
    "    return result\n",
    "\n",
    "\n",
    "n = int(input().strip())\n",
    "rooms = list(map(int, input().strip().split()))\n",
    "capacity = int(input().strip())\n",
    "\n",
    "combinations = findGoldCombinations(rooms, capacity)\n",
    "\n",
    "for combo in combinations:\n",
    "    print(\" \".join(map(str, combo)))\n"
   ]
  },
  {
   "cell_type": "code",
   "execution_count": 2,
   "id": "afa53259-85b8-4b0b-bdf7-7ee91f60d71a",
   "metadata": {},
   "outputs": [
    {
     "name": "stdin",
     "output_type": "stream",
     "text": [
      " 9\n",
      " 1 8 6 2 5 4 8 3 7\n"
     ]
    },
    {
     "name": "stdout",
     "output_type": "stream",
     "text": [
      "49\n"
     ]
    }
   ],
   "source": [
    "def maxWaterContainer(height):\n",
    "    l, r = 0, len(height) - 1\n",
    "    max_area = 0\n",
    "\n",
    "    while l < r:\n",
    "        max_area = max(max_area, min(height[l], height[r]) * (r - l))\n",
    "        if height[l] < height[r]:\n",
    "            l += 1\n",
    "        else:\n",
    "            r -= 1\n",
    "\n",
    "    return max_area\n",
    "\n",
    "\n",
    "n = int(input().strip())\n",
    "height = list(map(int, input().strip().split()))\n",
    "\n",
    "result = maxWaterContainer(height)\n",
    "\n",
    "print(result)\n"
   ]
  },
  {
   "cell_type": "code",
   "execution_count": 6,
   "id": "13661b3e-e23c-4087-b12e-d4e90b4264a1",
   "metadata": {},
   "outputs": [
    {
     "name": "stdout",
     "output_type": "stream",
     "text": [
      "Hello, Alice!\n",
      "None\n"
     ]
    }
   ],
   "source": [
    "def greet(name):\n",
    "    print(\"Hello, \" + name + \"!\")\n",
    "\n",
    "print(greet(\"Alice\"))\n",
    "# d"
   ]
  },
  {
   "cell_type": "code",
   "execution_count": 17,
   "id": "42eaa5e5-aebb-471d-9612-973aedb5124b",
   "metadata": {},
   "outputs": [
    {
     "name": "stdout",
     "output_type": "stream",
     "text": [
      "Banana\n",
      "['Banana', 'Cherry', 'Apple', 'Mango']\n"
     ]
    },
    {
     "ename": "AttributeError",
     "evalue": "'list' object has no attribute 'removeAll'",
     "output_type": "error",
     "traceback": [
      "\u001b[1;31m---------------------------------------------------------------------------\u001b[0m",
      "\u001b[1;31mAttributeError\u001b[0m                            Traceback (most recent call last)",
      "Cell \u001b[1;32mIn[17], line 10\u001b[0m\n\u001b[0;32m      8\u001b[0m fruits\u001b[38;5;241m.\u001b[39mextend([\u001b[38;5;241m3\u001b[39m,\u001b[38;5;241m4\u001b[39m,\u001b[38;5;241m5\u001b[39m,\u001b[38;5;241m5\u001b[39m])\n\u001b[0;32m      9\u001b[0m fruits[\u001b[38;5;241m0\u001b[39m:\u001b[38;5;241m3\u001b[39m]\n\u001b[1;32m---> 10\u001b[0m fruits\u001b[38;5;241m.\u001b[39mremoveAll(\u001b[38;5;241m5\u001b[39m)\n\u001b[0;32m     11\u001b[0m fruits\n\u001b[0;32m     12\u001b[0m l1 \u001b[38;5;241m=\u001b[39m[\u001b[38;5;241m2\u001b[39m,\u001b[38;5;241m3\u001b[39m,\u001b[38;5;241m4\u001b[39m]\n",
      "\u001b[1;31mAttributeError\u001b[0m: 'list' object has no attribute 'removeAll'"
     ]
    }
   ],
   "source": [
    "fruits = [\"Banana\", \"Cherry\",\"Apple\"]\n",
    "print(fruits[0])      # Access first element\n",
    "fruits.append(\"Mango\")  # Add new element\n",
    "print(fruits)\n",
    "fruits.sort()\n",
    "fruits.insert(2,\"dsf\")\n",
    "fruits[1]= \"temp\"\n",
    "fruits.extend([3,4,5,5])\n",
    "fruits[0:3]\n",
    "fruits.removeAll(5)\n",
    "fruits\n",
    "l1 =[2,3,4]\n",
    "l2 = [9,5]\n",
    "l3 = l1+l2\n",
    "l3"
   ]
  },
  {
   "cell_type": "code",
   "execution_count": 21,
   "id": "9352accb-1a7f-434c-b92c-8262ed9a2c86",
   "metadata": {},
   "outputs": [
    {
     "name": "stdout",
     "output_type": "stream",
     "text": [
      "0\n",
      "1\n",
      "2\n",
      "3\n",
      "4\n"
     ]
    },
    {
     "ename": "NameError",
     "evalue": "name 'numbers' is not defined",
     "output_type": "error",
     "traceback": [
      "\u001b[1;31m---------------------------------------------------------------------------\u001b[0m",
      "\u001b[1;31mNameError\u001b[0m                                 Traceback (most recent call last)",
      "Cell \u001b[1;32mIn[21], line 5\u001b[0m\n\u001b[0;32m      2\u001b[0m     \u001b[38;5;28mprint\u001b[39m(num)\n\u001b[0;32m      4\u001b[0m \u001b[38;5;66;03m# Using List Comprehension\u001b[39;00m\n\u001b[1;32m----> 5\u001b[0m squared \u001b[38;5;241m=\u001b[39m [x\u001b[38;5;241m*\u001b[39m\u001b[38;5;241m*\u001b[39m\u001b[38;5;241m2\u001b[39m \u001b[38;5;28;01mfor\u001b[39;00m x \u001b[38;5;129;01min\u001b[39;00m numbers]\n\u001b[0;32m      6\u001b[0m squared\n",
      "\u001b[1;31mNameError\u001b[0m: name 'numbers' is not defined"
     ]
    }
   ],
   "source": [
    "for num in range(5):\n",
    "    print(num)\n",
    "\n",
    "# Using List Comprehension\n",
    "squared = [x**2 for x in numbers]\n",
    "squared"
   ]
  },
  {
   "cell_type": "code",
   "execution_count": 26,
   "id": "2a73d711-ac82-4134-a6eb-a95f48bd8217",
   "metadata": {},
   "outputs": [
    {
     "name": "stdout",
     "output_type": "stream",
     "text": [
      "[9, 5, 4, 3, 2, 1, 1]\n",
      "2\n",
      "2\n"
     ]
    }
   ],
   "source": [
    "nums = [3, 1, 4, 1, 5, 9, 2]\n",
    "\n",
    "nums.sort(reverse=True)    # Sorts in ascending order\n",
    "# nums.reverse()\n",
    "print(nums)# Reverses the list\n",
    "print(nums.count(1))  # Counts occurrences of 1\n",
    "print(nums.index(4))  # Returns index of 4\n"
   ]
  },
  {
   "cell_type": "code",
   "execution_count": 32,
   "id": "4e242311-5619-4faa-bdd0-c9fee97b965e",
   "metadata": {},
   "outputs": [
    {
     "name": "stdout",
     "output_type": "stream",
     "text": [
      "False\n",
      "True\n"
     ]
    }
   ],
   "source": [
    "new_list = nums.copy()\n",
    "n2  = nums# Creates a separate copy\n",
    "cloned_list = nums[:]   # Another way to copy\n",
    "import copy\n",
    "deep_copy_list = copy.deepcopy(nums)  # For nested lists\n",
    "print(new_list is nums)\n",
    "print(n2 is nums)"
   ]
  },
  {
   "cell_type": "code",
   "execution_count": 35,
   "id": "6c800ead-134b-4894-8375-eac395085ebb",
   "metadata": {},
   "outputs": [
    {
     "name": "stdout",
     "output_type": "stream",
     "text": [
      "<class 'set'>\n"
     ]
    }
   ],
   "source": [
    "my_dict = set()\n",
    "print(type(my_dict))"
   ]
  },
  {
   "cell_type": "code",
   "execution_count": 42,
   "id": "736ad271-ce3c-4d53-ab44-c7cc79fb9fab",
   "metadata": {},
   "outputs": [
    {
     "name": "stdout",
     "output_type": "stream",
     "text": [
      "Alice\n",
      "25\n",
      "John\n",
      "Not\n"
     ]
    },
    {
     "data": {
      "text/plain": [
       "{'name': 'sdfg', 'marks': {'math': 90, 'science': 85}, 'Rank': 345}"
      ]
     },
     "execution_count": 42,
     "metadata": {},
     "output_type": "execute_result"
    }
   ],
   "source": [
    "# Empty dictionary\n",
    "my_dict = {}\n",
    "\n",
    "# Dictionary with values\n",
    "person = {\n",
    "    \"name\": \"Alice\",\n",
    "    \"age\": 25,\n",
    "    \"city\": \"New York\"\n",
    "}\n",
    "\n",
    "# Dictionary with different types of keys\n",
    "mixed_keys = {\n",
    "    1: \"One\",\n",
    "    \"two\": 2,\n",
    "    (3, 4): \"Tuple Key\"\n",
    "}\n",
    "\n",
    "# Nested dictionary\n",
    "student = {\n",
    "    \"name\": \"John\",\n",
    "    \"marks\": {\"math\": 90, \"science\": 85}\n",
    "}\n",
    "\n",
    "print(person[\"name\"])  # Alice\n",
    "print(person.get(\"age\"))  # 25 (Safe way to access keys)\n",
    "# print(person.get(\"gender\", \"Not specified\"))  # Default value if key not found\n",
    "print(student.get(\"name\"))\n",
    "print(student.get(\"rank\" ,\"Not\"))\n",
    "student[\"name\"] = \"sdfg\"\n",
    "student[\"Rank\"] = 345\n",
    "student"
   ]
  },
  {
   "cell_type": "code",
   "execution_count": 46,
   "id": "f653102b-5d16-47a4-a63e-4bc78002a69f",
   "metadata": {},
   "outputs": [
    {
     "name": "stdout",
     "output_type": "stream",
     "text": [
      "sdfg\n",
      "{'math': 90, 'science': 85}\n",
      "345\n"
     ]
    }
   ],
   "source": [
    "# for key in student:\n",
    "#     print(key, student[key])\n",
    "for key in student.values():\n",
    "    print(key)\n",
    "\n",
    "# for key, value in person.items():\n",
    "#     print(key, \":\", value)\n"
   ]
  },
  {
   "cell_type": "code",
   "execution_count": 58,
   "id": "48f242ae-63db-40ce-a962-3f87e0f8ee00",
   "metadata": {},
   "outputs": [
    {
     "name": "stdout",
     "output_type": "stream",
     "text": [
      "dict_values([0, 4, 16, 36, 64])\n",
      "dict_keys([0, 2, 4, 6, 8])\n",
      "dict_items([(0, 0), (2, 4), (4, 16), (6, 36), (8, 64)])\n",
      "True\n"
     ]
    }
   ],
   "source": [
    "# squared_numbers = {x: x**2 for x in range(1, 6)}\n",
    "# Output: {1: 1, 2: 4, 3: 9, 4: 16, 5: 25}\n",
    "l = {x:x**2 for x in range(10) if x%2==0}\n",
    "print(l.values())\n",
    "print(l.keys())\n",
    "print(l.items())\n",
    "print((0,0) in l.items())"
   ]
  },
  {
   "cell_type": "code",
   "execution_count": 72,
   "id": "f54c8dbf-21eb-4f83-b84b-5af8fc143f65",
   "metadata": {},
   "outputs": [
    {
     "name": "stdin",
     "output_type": "stream",
     "text": [
      "Enter a number:  0\n"
     ]
    },
    {
     "name": "stdout",
     "output_type": "stream",
     "text": [
      "Cannot divide by zero!\n",
      "Execution completed.\n"
     ]
    }
   ],
   "source": [
    "try:\n",
    "    num = int(input(\"Enter a number: \"))\n",
    "    result = 10 / num\n",
    "    # result = result + \"asdfg\"\n",
    "    print(result)\n",
    "except ValueError:\n",
    "    print(\"Invalid input! Please enter a number.\")\n",
    "except ZeroDivisionError:\n",
    "    print(\"Cannot divide by zero!\")\n",
    "except TypeError:\n",
    "    print(\"string and integer not addition!\")\n",
    "else:\n",
    "    print(\"rtj\")\n",
    "finally:\n",
    "    print(\"Execution completed.\")"
   ]
  },
  {
   "cell_type": "code",
   "execution_count": null,
   "id": "49d34f00-d19d-490d-bd7f-c236320af87c",
   "metadata": {},
   "outputs": [],
   "source": []
  }
 ],
 "metadata": {
  "kernelspec": {
   "display_name": "Python 3 (ipykernel)",
   "language": "python",
   "name": "python3"
  },
  "language_info": {
   "codemirror_mode": {
    "name": "ipython",
    "version": 3
   },
   "file_extension": ".py",
   "mimetype": "text/x-python",
   "name": "python",
   "nbconvert_exporter": "python",
   "pygments_lexer": "ipython3",
   "version": "3.12.7"
  }
 },
 "nbformat": 4,
 "nbformat_minor": 5
}
