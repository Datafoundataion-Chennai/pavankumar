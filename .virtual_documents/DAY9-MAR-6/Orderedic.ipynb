#1 Managing a Prison Canteen
from collections import Counter,OrderedDict
requests = [
    ("bread", 5),
    ("milk", 2),
    ("bread", 3),
    ("cigarettes", 4),
    ("milk", 1)
]
temp =OrderedDict()
count = Counter()
for i,j in requests:
    count[i] += j
for i in count:
    temp[i] = count[i]
print(temp)


#2 Warzone Battlefield Encryption
import defaultDict
codewords = ["attack", "retreat", "sniper", "danger", "tanks", "enemy"]
intercepted = ["ckatta", "ratreet", "ksnat", "shadow"]



from collections import Counter

# Creating a Counter from a list
word_count = Counter(['a', 'b', 'a', 'c', 'b', 'a'])

print(word_count)  # Output: Counter({'a': 3, 'b': 2, 'c': 1})
print(list(word_count.elements()))
# Most common elements
print(word_count.most_common(4))  # Output: [('a', 3), ('b', 2)]

# Using Counter on a string
char_count = Counter("mississippi")
print(char_count)  # Output: Counter({'i': 4, 's': 4, 'p': 2, 'm': 1})

# # Accessing count of a specific element
# print(word_count['a'])  # Output: 3
# print(word_count['z'])  # Output: 0 (returns 0 instead of KeyError)

# # Adding and subtracting Counters
# c1 = Counter(a=3, b=2)
# c2 = Counter(a=1, b=4, c=2)

# # Addition
# print(c1 + c2)  # Output: Counter({'b': 6, 'a': 4, 'c': 2})

# # Subtraction (negative counts are discarded)
# print(c1 - c2)  # Output: Counter({'a': 2})

# # Elements method (expands back the elements)
# print(list(c1.elements()))  # Output: ['a', 'a', 'a', 'b', 'b']




