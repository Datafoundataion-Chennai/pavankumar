!pip install pytest


import pytest
def add(x, y):
    return x + y
def test_add():
    assert add(2, 3) == 5
    assert add(-1, 1) == 0
    assert add(0, 0) == 0
pytest.main(["-q", "--tb=short"])



import unittest

class TestAddFunction(unittest.TestCase):
    def test_add(self):
        self.assertEqual(add(2, 3), 5)
        self.assertEqual(add(-1, 1), 0)
        self.assertEqual(add(0, 0), 0)

unittest.main(argv=[''], exit=False)



import matplotlib as plot
import numpy as np
x = np.random.rand(50)
y = np.random.rand(50)
plot.scatter(x,y,edgecolor='black')
plot.show()
print(x,y)


import matplotlib.pyplot as plt
import numpy as np


days = ["Mon", "Tue", "Wed", "Thu", "Fri", "Sat", "Sun"]
temperature = [30, 32, 33, 31, 29, 28, 27]
plt.plot(days,temperature,marker="p",linestyle="--",color="red",linewidth=2,markersize=10,label="Temperature")
plt.xlabel("Days")
plt.ylabel("Temperature")
plt.title("Temperature Trend Over a Week")
plt.legend()
plt.grid(True)
plt.show()


#Scatter Plot
months = np.arange(1,11)
followers = [1000,2500,3000,4000,5000,7500,11000,23000,30000,34000]
colors = np.random.rand(10)
plt.scatter(months,followers, c=colors,cmap="viridis",edgecolor="black",s=100)
plt.xlabel("Months")
plt.ylabel("Followers Count")
plt.title("Instagram Followers growth over 10 months")
plt.colorbar(label= "Growth Intensity")
plt.show()


#Bar Chart - Monthly Sales
months = ["Jan", "Feb", "Mar", "Apr", "May", "Jun"]
sales = [5000, 7000, 8000, 6500, 9000, 10000]
plt.bar(months,sales,color=["#eeaeca", "green", "#94bbe9", "orange", "purple", "cyan"])
plt.xlabel("Months")
plt.ylabel("Sales")
plt.title("Monthly Sales Report")
plt.show()


#Histogram - Exam Scores Distribution
exam_scores = np.random.randint(50,100,200)
plt.hist(exam_scores,bins=10,color="blue",edgecolor="black",alpha=0.7)
plt.xlabel("Scores")
plt.ylabel("Number of Students")
plt.title("Exam Score Distribution")
plt.show()


#Pie Chart Marker Share
brands = ["Apple", "Samsung", "Xiaomi", "OnePlus", "Others"]
market_share = [40, 30, 15, 10, 5]
colors = ["gold", "lightblue", "red", "green", "grey"]
plt.pie(market_share,labels=brands,colors=colors,autopct="%1.1f%%",startangle=140,shadow=True)
plt.title("SmartPhone Market Share")
plt.show()


#Multiple Plot
days = ["Mon", "Tue", "Wed", "Thu", "Fri", "Sat", "Sun"]
temperature = [30, 32, 33, 31, 29, 28, 27]
humidity = [80, 75, 78, 72, 70, 68, 65]
fig,ax = plt.subplots(2, figsize=(10,6))
ax[0].plot(days,temperature,marker="o",color="red",linestyle="--",label="Temperature")
ax[0].set_title("Temperature Over the Week")
ax[0].legend()
ax[0].grid(True)
ax[1].bar(days,humidity,color=["blue","red"],label="Humidity")
ax[1].set_title("Humidity Over the Week")
ax[1].legend()
# ax[1].grid(True)

plt.tight_layout()
plt.show()



