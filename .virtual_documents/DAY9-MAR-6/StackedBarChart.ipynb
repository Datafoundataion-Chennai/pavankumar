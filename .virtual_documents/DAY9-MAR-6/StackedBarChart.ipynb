import numpy as np
import matplotlib.pyplot as plt


months = ["Jan", "Feb", "Mar", "Apr", "May", "Jun"]
# rent = [1200, 1200, 1200, 1200, 1250, 1250]
rent = np.random.randint(1000,2000,6)
food = np.random.randint(200,700,6)
entertainment = [150, 200, 220, 180, 250, 300]
transport = [100, 120, 130, 110, 140, 160]

plt.bar(months,rent,label="rent",color="lightblue")
plt.bar(months,food,label="food",color="blue")
plt.bar(months,entertainment,label="entertainment",color="yellow")
plt.bar(months,transport,label="transport",color="lightgreen")
plt.xlabel('Months')
plt.ylabel('Expenses (USD)')
plt.title('Monthly Expenses Comparison')
plt.legend()
plt.show()


months = ["Jan", "Feb", "Mar", "Apr", "May", "Jun"]
rent = [1200, 1200, 1200, 1200, 1250, 1250]
food = [400, 420, 450, 480, 500, 520]
entertainment = [150, 200, 220, 180, 250, 300]
transport = [100, 120, 130, 110, 140, 160]
plt.plot(rent,food,entertainment,transport,linestyle='-',color='b',label='Testing')
plt.xlabel("Months")
plt.ylabel("Expenditures")
plt.title("Monthly Expenses Comparison")
plt.show()






