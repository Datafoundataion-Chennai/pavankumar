import numpy as np
import matplotlib.pyplot as plt

weeks = np.arange(1, 9)
covid_cases = [500, 700, 1200, 2000, 3000, 4500, 6000, 8000] #1st subplot
vaccination_rate = [5, 10, 20, 35, 50, 65, 75, 85] #2nd subplot


fig,(sub1,sub2) = plt.subplots(2)
sub1.plot(weeks, covid_cases, marker='o', linestyle='-',color="blue",label="covid-19 cases")
sub1.set_xlabel('Weeks')
sub1.set_ylabel('Covid cases (19)')
sub1.set_title('Weekwise Covid cases')
sub1.legend()



sub2.plot(weeks,vaccination_rate , marker='s', linestyle='-',color="green",label="Vaccination rate")
sub2.set_xlabel('Weeks')
sub2.set_ylabel('Vaccination Rate (%)')
sub2.set_title('Vaccination Progress Over Weeks')
sub2.legend()
plt.show()



