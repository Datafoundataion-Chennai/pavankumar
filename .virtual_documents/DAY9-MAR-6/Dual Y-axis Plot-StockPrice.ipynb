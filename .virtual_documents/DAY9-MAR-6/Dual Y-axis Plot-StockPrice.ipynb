import matplotlib as plt
import numpy as np
days = np.arange(1, 11)  
stock_price = [150, 152, 149, 155, 160, 162, 158, 165, 170, 175]  # In USD
trading_volume = [1.2, 1.4, 1.1, 1.8, 2.0, 2.5, 2.2, 2.7, 3.0, 3.5]  # In million shares



# Implementation of matplotlib function 
import numpy as np 
import matplotlib.pyplot as plt 

# Create some mock data 
t = np.arange(0.01, 10.0, 0.001) 
data1 = np.exp(t) 
data2 = np.sin(0.4 * np.pi * t) 

fig, ax1 = plt.subplots() 

color = 'tab:blue'
ax1.set_xlabel('time (s)') 
ax1.set_ylabel('exp', color = color) 
ax1.plot(t, data1, color = color) 
ax1.tick_params(axis ='y', labelcolor = color) 

ax2 = ax1.twinx() 

color = 'tab:green'
ax2.set_ylabel('sin', color = color) 
ax2.plot(t, data2, color = color) 
ax2.tick_params(axis ='y', labelcolor = color) 

fig.suptitle('matplotlib.axes.Axes.twinx() \ 
function Example\n\n', fontweight ="bold") 

plt.show() 




