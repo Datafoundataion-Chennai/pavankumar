import numpy as np
dataset = np.random.randint(10,50,(5,10))
print(dataset)


avg = (np.sum(dataset,axis =1))/10
avg = [round(a,1) for a in avg]
print("Average points per game:")
print(avg)
sums = np.sum(dataset,axis=1)
print()
print(f"Best-performing player: Player {np.where(sums==max(sums))[0][0]} (Total: {max(sums)} points)")
print(f"Worst-performing player: Player {np.where(sums==min(sums))[0][0]} (Total: {min(sums)} points)")
print()
print("Games with scores above 30")
for i in range(len(dataset)):
    mask = dataset[i]>30
    if len(dataset[i][mask]) != 0:
        print(f"Player {i+1}: Games {dataset[i][mask]}")
print()
temp = {}
for i in range(len(sums)):
    temp[i+1] = sums[i]
# print(temp)
di = dict(sorted(temp.items(), key=lambda item: item[1],reverse = True))
i =1
print("Sorted Players by Total Points")
for j in di.keys():
    print(f"{i}. Player {j} - {di[j]} points")
    i+=1







