import numpy as np
dataset = np.random.randint(100,500,(30,5))
print(dataset)
avg = (np.sum(dataset,axis =0))/30
avg = [round(a,1) for a in avg]
print("Average stock prices :",avg)
maxi = np.max(dataset)
index = np.where(dataset==maxi)
print(index)
print(maxi)


print(dataset)



