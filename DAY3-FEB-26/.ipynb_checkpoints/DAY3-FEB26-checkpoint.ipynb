{
 "cells": [
  {
   "cell_type": "code",
   "execution_count": 1,
   "id": "7c245585-b930-4385-9e04-0042bbdde563",
   "metadata": {},
   "outputs": [
    {
     "ename": "TypeError",
     "evalue": "addition() takes 2 positional arguments but 3 were given",
     "output_type": "error",
     "traceback": [
      "\u001b[1;31m----------------------------------------------------------------\u001b[0m",
      "\u001b[1;31mTypeError\u001b[0m                      Traceback (most recent call last)",
      "Cell \u001b[1;32mIn[1], line 5\u001b[0m\n\u001b[0;32m      3\u001b[0m \u001b[38;5;28;01mdef\u001b[39;00m \u001b[38;5;21maddition\u001b[39m(x,y):\n\u001b[0;32m      4\u001b[0m     \u001b[38;5;28mprint\u001b[39m(x\u001b[38;5;241m+\u001b[39my)\n\u001b[1;32m----> 5\u001b[0m addition(\u001b[38;5;241m3\u001b[39m,\u001b[38;5;241m10\u001b[39m,\u001b[38;5;241m1\u001b[39m)\n\u001b[0;32m      6\u001b[0m addition(\u001b[38;5;241m3\u001b[39m,\u001b[38;5;241m4\u001b[39m)\n",
      "\u001b[1;31mTypeError\u001b[0m: addition() takes 2 positional arguments but 3 were given"
     ]
    }
   ],
   "source": [
    "def addition(x,y,z):\n",
    "    print(x+y+z)\n",
    "def addition(x,y):\n",
    "    print(x+y)\n",
    "addition(3,10,1)\n",
    "addition(3,4)"
   ]
  },
  {
   "cell_type": "code",
   "execution_count": 2,
   "id": "9e958ad9-e52f-4b6c-a5ac-435c018a83c4",
   "metadata": {},
   "outputs": [
    {
     "name": "stdout",
     "output_type": "stream",
     "text": [
      "65\n",
      "A\n"
     ]
    }
   ],
   "source": [
    "print(ord(\"A\"))\n",
    "print(chr(65))"
   ]
  },
  {
   "cell_type": "code",
   "execution_count": 3,
   "id": "9c5b6937-aa08-4ccf-a227-c310f334e10f",
   "metadata": {},
   "outputs": [
    {
     "name": "stdout",
     "output_type": "stream",
     "text": [
      "10\n"
     ]
    }
   ],
   "source": [
    "def addi(*n):\n",
    "    sum =0\n",
    "    for i in range(len(n)):\n",
    "        sum += i\n",
    "    return sum\n",
    "print(addi(2,4,5,2,5))"
   ]
  },
  {
   "cell_type": "code",
   "execution_count": 11,
   "id": "bfb389c1-8185-48f0-b482-711ad24b3e09",
   "metadata": {},
   "outputs": [
    {
     "name": "stdout",
     "output_type": "stream",
     "text": [
      "6\n"
     ]
    }
   ],
   "source": [
    "add = lambda a,b : a+b\n",
    "print(add(2,4))"
   ]
  },
  {
   "cell_type": "code",
   "execution_count": 12,
   "id": "0a6f82e9-8d7d-48a0-83da-113d6c502645",
   "metadata": {},
   "outputs": [
    {
     "name": "stdout",
     "output_type": "stream",
     "text": [
      "[0, 2, 4, 6, 8]\n"
     ]
    }
   ],
   "source": [
    "lis =[]\n",
    "for i in range(10):\n",
    "    lis.append(i)\n",
    "print(list(filter( lambda x: x%2==0, lis)))"
   ]
  },
  {
   "cell_type": "markdown",
   "id": "e43828c1-8c22-499d-9d6e-04342a0e38fb",
   "metadata": {},
   "source": [
    "1)You have a list of product prices in string format. Convert them into float values using map(), then calculate the total sum.\r\n",
    "sample input: prices = [\"12.99\", \"23.50\", \"9.99\", \"45.00\", \"5.75\"]"
   ]
  },
  {
   "cell_type": "code",
   "execution_count": 13,
   "id": "13331aff-0a33-4c24-b839-d049c36bdd37",
   "metadata": {},
   "outputs": [
    {
     "name": "stdout",
     "output_type": "stream",
     "text": [
      "97.189\n",
      "4431.474\n",
      "12.99\n",
      "84.24\n"
     ]
    }
   ],
   "source": [
    "def productSum(prices):\n",
    "    prices = list(map(float,prices))\n",
    "    return sum(prices)\n",
    "print(productSum([\"12.949\",\"23.50\",\"9.99\",\"45.00\",\"5.75\"]))\n",
    "print(productSum([\"2.99\",\"23.50\",\"9.234\",\"45.00\",\"5.75\",\"4345.000\"]))\n",
    "print(productSum([\"12.99\"]))\n",
    "print(productSum([\"23.50\",\"9.99\",\"45.00\",\"5.75\"]))"
   ]
  },
  {
   "cell_type": "markdown",
   "id": "a02bc2d8-9402-4950-9720-a58b118a9386",
   "metadata": {},
   "source": [
    "2)Given a list of words, filter out the words that have an odd number of characters.\r\n",
    "sample input: words = [\"apple\", \"banana\", \"grape\", \"kiwi\", \"mango\", \"strawberry\"]"
   ]
  },
  {
   "cell_type": "code",
   "execution_count": 14,
   "id": "2b6efac7-704b-458d-a6d8-7ad390c75719",
   "metadata": {
    "scrolled": true
   },
   "outputs": [
    {
     "name": "stdout",
     "output_type": "stream",
     "text": [
      "['apple', 'grape', 'mango']\n",
      "['apple', 'mango']\n",
      "['pavan', 'kumar', 'sai', 'karthik']\n"
     ]
    }
   ],
   "source": [
    "def oddLengthWords(words):\n",
    "    return list(filter(lambda x:len(x)%2!=0,words))\n",
    "print(oddLengthWords([\"apple\", \"banana\", \"grape\", \"kiwi\", \"mango\", \"strawberry\"]))\n",
    "print(oddLengthWords([\"apple\", \"mango\", \"strawberry\"]))\n",
    "print(oddLengthWords([\"pavan\", \"kumar\", \"ravi\", \"sai\", \"raju\", \"karthik\"]))"
   ]
  },
  {
   "cell_type": "markdown",
   "id": "1f942aa0-2b98-46f0-86fb-7ff766c17f60",
   "metadata": {},
   "source": [
    "3)Given a number n, return its multiplication table (1 to 10) as a list of tuples.\r\n",
    "Input: 3\r\n",
    "Output: [(3, 1, 3), (3, 2, 6), ..., (3, 10, 30)]"
   ]
  },
  {
   "cell_type": "code",
   "execution_count": 20,
   "id": "3910a559-8e9b-4bc8-9aac-e70138f7cbdf",
   "metadata": {},
   "outputs": [
    {
     "name": "stdin",
     "output_type": "stream",
     "text": [
      "Enter the Number 7\n"
     ]
    },
    {
     "name": "stdout",
     "output_type": "stream",
     "text": [
      "[(7, 1, 7), (7, 2, 14), (7, 3, 21), (7, 4, 28), (7, 5, 35), (7, 6, 42), (7, 7, 49), (7, 8, 56), (7, 9, 63), (7, 10, 70)]\n"
     ]
    }
   ],
   "source": [
    "def multiple(n):\n",
    "    result = []\n",
    "    for i in range(1,11):\n",
    "        result.append((n,i,n*i))\n",
    "    return result\n",
    "n = int(input(\"Enter the Number\"))\n",
    "print(multiple(n))"
   ]
  },
  {
   "cell_type": "markdown",
   "id": "7a12c391-bc6b-40ad-9a9a-d26f1e951f2f",
   "metadata": {},
   "source": [
    "4)Given a sentence as a string, return the count of vowels (a, e, i, o, u).\r\n",
    "Input: \"Hello World\"\r\n",
    "Output: 3\r\n"
   ]
  },
  {
   "cell_type": "code",
   "execution_count": 19,
   "id": "a6d5810d-d0ac-49f7-beb5-42e5a7088735",
   "metadata": {},
   "outputs": [
    {
     "name": "stdin",
     "output_type": "stream",
     "text": [
      "Enter the String helloshf\n"
     ]
    },
    {
     "name": "stdout",
     "output_type": "stream",
     "text": [
      "2\n"
     ]
    }
   ],
   "source": [
    "def countVowels(string):\n",
    "    string = string.lower()\n",
    "    count =0\n",
    "    for i in string:\n",
    "        if i in \"aeiou\":\n",
    "            count +=1\n",
    "    return count\n",
    "string = input(\"Enter the String\")\n",
    "print(countVowels(string))"
   ]
  },
  {
   "cell_type": "markdown",
   "id": "9527a9ed-5a05-47e5-827d-d7b2d8b2aae2",
   "metadata": {},
   "source": [
    "Intermediate level problems:\n",
    "1)Given a list of words, group words that are anagrams.\r\n",
    "Input: [\"eat\", \"tea\", \"tan\", \"ate\", \"nat\", \"bat\"]\r\n",
    "Output: [['eat', 'tea', 'ate'], ['tan', 'nat'], ['bat']]\r\n",
    "\r\n",
    "2)Given an unsorted list of integers, find the length of the longest consecutive sequence.\r\n",
    "Input: [100, 4, 200, 1, 3, 2]\r\n",
    "Output: 4  # (because the sequence is 1, 2, 3, 4)"
   ]
  },
  {
   "cell_type": "code",
   "execution_count": 53,
   "id": "5156449a-eeae-4568-ae1b-7e6f9106ad5e",
   "metadata": {},
   "outputs": [
    {
     "name": "stdout",
     "output_type": "stream",
     "text": [
      "[['eat', 'tea', 'ate'], ['tan', 'nat'], ['bat']]\n"
     ]
    }
   ],
   "source": [
    "#1\n",
    "def anagrams(words):\n",
    "    result = []\n",
    "    for i in words:\n",
    "        temp = []\n",
    "        for j in words:\n",
    "            if sorted(i)==sorted(j) and j not in temp:\n",
    "                temp.append(j)\n",
    "        if temp not in result:\n",
    "            result.append(temp)\n",
    "    return result\n",
    "print(anagrams([\"eat\", \"tea\", \"tan\", \"ate\", \"nat\", \"bat\"]))"
   ]
  },
  {
   "cell_type": "code",
   "execution_count": 70,
   "id": "50180ee9-e242-4dac-8d4c-bbb37718fb74",
   "metadata": {},
   "outputs": [
    {
     "name": "stdout",
     "output_type": "stream",
     "text": [
      "4\n",
      "4\n",
      "7\n",
      "6\n"
     ]
    }
   ],
   "source": [
    "#2\n",
    "def arrayList(numbers):\n",
    "    numbers = list(set(numbers))\n",
    "    numbers.sort()\n",
    "    count = 0\n",
    "    max = 0\n",
    "    for i in range(len(numbers)-1):\n",
    "        if numbers[i] - numbers[i+1] ==-1:\n",
    "            count +=1\n",
    "        else:\n",
    "            if max<count:\n",
    "                max = count+1\n",
    "            count =0\n",
    "    if max<count:\n",
    "        max = count+1\n",
    "    return max\n",
    "print(arrayList([100, 4, 200, 1, 3, 2]))\n",
    "print(arrayList([100, 4, 200, 1, 3, 2,101,102]))\n",
    "print(arrayList([1,2,3,4,5,6,72,4,2,6,7,1,2,4,9,5,4]))\n",
    "print(arrayList([6,70,71,72,73,74,75,4,2,6,7,1,2,4,9,10,11,12,5,4]))"
   ]
  },
  {
   "cell_type": "code",
   "execution_count": 62,
   "id": "377e77a5-0f8b-4f55-8b4b-9342a1b430f4",
   "metadata": {},
   "outputs": [
    {
     "name": "stdout",
     "output_type": "stream",
     "text": [
      "[['eat', 'tea', 'ate'], ['tan', 'nat'], ['bat']]\n",
      "None\n"
     ]
    }
   ],
   "source": [
    "def get_anagrams(li):\n",
    "    dic = {}\n",
    "    for i in range(0,len(li)):\n",
    "        temp = \"\".join(sorted(li[i]))\n",
    "        if temp in dic:\n",
    "            dic[temp].append(li[i])\n",
    "        else:\n",
    "            dic[temp] = [li[i]]\n",
    "    print(list(dic.values()))\n",
    "print(get_anagrams([\"eat\", \"tea\", \"tan\", \"ate\", \"nat\", \"bat\"]))"
   ]
  },
  {
   "cell_type": "markdown",
   "id": "7bb1fbe9-fb23-4565-af52-62d630165e95",
   "metadata": {},
   "source": [
    "Problem Statement:\n",
    "Given a M x N matrix where rows and columns are sorted in ascending order, write a function to check if a given number exists.\n",
    "Input:\n",
    "matrix = [\n",
    "  [1, 4, 7, 11],\n",
    "  [2, 5, 8, 12],\n",
    "  [3, 6, 9, 16]\n",
    "]\n",
    "target = 5\n",
    "Output: True"
   ]
  },
  {
   "cell_type": "code",
   "execution_count": 79,
   "id": "3439062a-7436-41cf-829b-55ba4c09044d",
   "metadata": {},
   "outputs": [
    {
     "name": "stdout",
     "output_type": "stream",
     "text": [
      "[1, 1]\n"
     ]
    }
   ],
   "source": [
    "matrix = [\n",
    "  [1, 4, 7, 11],\n",
    "  [2, 5, 8, 12],\n",
    "  [3, 6, 9, 16]\n",
    "]\n",
    "target = 5\n",
    "def findInMatrix(m,k):\n",
    "    for i in range(len(m)):\n",
    "        if k in m[i]:\n",
    "            j = m[i].index(k)\n",
    "            return [i,j]\n",
    "    return None\n",
    "print(findInMatrix(matrix,target))"
   ]
  },
  {
   "cell_type": "code",
   "execution_count": 122,
   "id": "9f664bee-0e8d-426d-aeb5-3c70ed840fca",
   "metadata": {},
   "outputs": [
    {
     "name": "stdout",
     "output_type": "stream",
     "text": [
      "Overall Winner  player2\n",
      "{'player1': 1, 'player2': 2}\n",
      "{'player1': 1, 'player2': 0}\n"
     ]
    }
   ],
   "source": [
    "d1 = [1,2,3,4,5,6]\n",
    "d2 = [1,2,3,4,5,6]\n",
    "R = 5\n",
    "o = [[(1,3),(4,5)],[(2,3),(4,5)],[(1,6),(2,2)],[(3,4),(5,1)],[(6,6),(1,1)]]\n",
    "score ={'player1':0,'player2':0}\n",
    "li = []\n",
    "for i in d1:\n",
    "    for j in d2:\n",
    "        li.append((i,j))\n",
    "di = {}\n",
    "n = len(li)\n",
    "for i in li:\n",
    "    s = sum(i)\n",
    "    if s in di:\n",
    "        di[s].append(i)\n",
    "    else:\n",
    "        di[s] = [i];\n",
    "\n",
    "for i,j in di.items():\n",
    "    di[i] = len(j)/n*100\n",
    "\n",
    "#print(di)\n",
    "def rareRoleWin(o):\n",
    "    for i in o:\n",
    "        p1Sum = sum(i[0])\n",
    "        p2Sum = sum(i[1])\n",
    "        #print(p1Sum,p2Sum)\n",
    "        if di[p1Sum] < di[p2Sum]:\n",
    "            score['player1'] +=1\n",
    "        elif di[p1Sum] > di[p2Sum]:\n",
    "            score['player2'] = score['player2']+1\n",
    "        else:\n",
    "            continue\n",
    "\n",
    "rareRoleWin(o)\n",
    "print(\"Overall Winner \",max(score))\n",
    "print(score)\n",
    "sample2 = [[(1,2),(3,6)],[(4,5),(2,3)]]\n",
    "\n",
    "score ={'player1':0,'player2':0}\n",
    "rareRoleWin(sample2)\n",
    "#print(\"Overall Winner \",max(score))\n",
    "print(score)\n"
   ]
  },
  {
   "cell_type": "markdown",
   "id": "41db5be2-7c89-4cfe-add7-c07dc09b6fc7",
   "metadata": {},
   "source": [
    "dice1 = [1,2,2,3,3,4]\n",
    "dice2 = [1,3,4,5,6,8]"
   ]
  },
  {
   "cell_type": "code",
   "execution_count": 123,
   "id": "7cba9203-09cf-45a8-8a92-9f0c76aab76c",
   "metadata": {},
   "outputs": [
    {
     "name": "stdout",
     "output_type": "stream",
     "text": [
      "{2: 2.7777777777777777, 3: 5.555555555555555, 4: 8.333333333333332, 5: 11.11111111111111, 6: 13.88888888888889, 7: 16.666666666666664, 8: 13.88888888888889, 9: 11.11111111111111, 10: 8.333333333333332, 11: 5.555555555555555, 12: 2.7777777777777777}\n"
     ]
    }
   ],
   "source": [
    "li = []\n",
    "for i in d1:\n",
    "    for j in d2:\n",
    "        li.append((i,j))\n",
    "di = {}\n",
    "n = len(li)\n",
    "for i in li:\n",
    "    s = sum(i)\n",
    "    if s in di:\n",
    "        di[s].append(i)\n",
    "    else:\n",
    "        di[s] = [i];\n",
    "\n",
    "for i,j in di.items():\n",
    "    di[i] = len(j)/n*100\n",
    "print(di)"
   ]
  }
 ],
 "metadata": {
  "kernelspec": {
   "display_name": "Python 3 (ipykernel)",
   "language": "python",
   "name": "python3"
  },
  "language_info": {
   "codemirror_mode": {
    "name": "ipython",
    "version": 3
   },
   "file_extension": ".py",
   "mimetype": "text/x-python",
   "name": "python",
   "nbconvert_exporter": "python",
   "pygments_lexer": "ipython3",
   "version": "3.12.7"
  }
 },
 "nbformat": 4,
 "nbformat_minor": 5
}
