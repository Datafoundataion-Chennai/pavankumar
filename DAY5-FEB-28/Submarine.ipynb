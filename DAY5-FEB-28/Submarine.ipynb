{
 "cells": [
  {
   "cell_type": "code",
   "execution_count": 5,
   "id": "c9b355a8-7bc0-4f76-a50a-eb137f1ca082",
   "metadata": {},
   "outputs": [
    {
     "name": "stdin",
     "output_type": "stream",
     "text": [
      "Enter the Captain Code AUTH-XYZ123-4567-SECURE\n",
      "Enter the Executive Officer's Code AUTH-XYZ123-4567-SECURE\n"
     ]
    },
    {
     "name": "stderr",
     "output_type": "stream",
     "text": [
      "2025-03-03 17:21:24,626 - INFO - Authorization Code Validated Successfully!\n",
      "2025-03-03 17:21:24,628 - INFO - Launch authorized for USS Trident. Preparing to launch SLBM...\n",
      "2025-03-03 17:21:24,631 - INFO - 🚀 Missile launched carrying Warhead W001: Type Thermonuclear, Yield 1000kt!\n"
     ]
    },
    {
     "name": "stdin",
     "output_type": "stream",
     "text": [
      "Enter the Captain Code AUTH-XYZ123-4567-SECURq\n",
      "Enter the Executive Officer's Code AUTH-XYZ123-4567-SECURq\n"
     ]
    },
    {
     "name": "stderr",
     "output_type": "stream",
     "text": [
      "2025-03-03 17:21:31,566 - WARNING - Invalid Authorization Code!\n",
      "2025-03-03 17:21:31,568 - ERROR - Launch Authorization Failed! Access Denied.\n"
     ]
    },
    {
     "name": "stdin",
     "output_type": "stream",
     "text": [
      "Enter the Captain Code AUTH-XYZ123-4567-SECURQ\n",
      "Enter the Executive Officer's Code AUTH-XYZ123-4567-SECUR\n"
     ]
    },
    {
     "name": "stderr",
     "output_type": "stream",
     "text": [
      "2025-03-03 17:21:46,690 - WARNING - Invalid Authorization Code!\n",
      "2025-03-03 17:21:46,692 - ERROR - Launch Authorization Failed! Access Denied.\n"
     ]
    }
   ],
   "source": [
    "import json\n",
    "import logging\n",
    "from auto import LaunchAuthorizationSystem\n",
    "\n",
    "# # Set up logging (console output only)\n",
    "logging.basicConfig(level=logging.INFO, format=\"%(asctime)s - %(levelname)s - %(message)s\")\n",
    "\n",
    "class Warhead:\n",
    "    \"\"\"Represents a nuclear warhead with specific payload information.\"\"\"\n",
    "    \n",
    "    def __init__(self, warhead_id, type, yield_kt):\n",
    "        self.warhead_id = warhead_id\n",
    "        self.type = type\n",
    "        self.yield_kt = yield_kt  # Yield in kilotons\n",
    "\n",
    "    def get_info(self):\n",
    "        return f\"Warhead {self.warhead_id}: Type {self.type}, Yield {self.yield_kt}kt\"\n",
    "\n",
    "class Submarine:\n",
    "    \"\"\"Controls the nuclear missile launch sequence.\"\"\"\n",
    "    \n",
    "    def __init__(self, name, warhead_data):\n",
    "        self.name = name\n",
    "        self.warheads = [Warhead(**w) for w in warhead_data]\n",
    "\n",
    "    def authorize_launch(self, auth_code):\n",
    "        \"\"\"Attempts to authorize and launch a missile.\"\"\"\n",
    "        if LaunchAuthorizationSystem.validate_code(auth_code):\n",
    "            logging.info(f\"Launch authorized for {self.name}. Preparing to launch SLBM...\")\n",
    "            self.launch_missile()\n",
    "        else:\n",
    "            logging.error(\"Launch Authorization Failed! Access Denied.\")\n",
    "    def dual_authorize_launch(self, auth_code1,auth_code2):\n",
    "        \"\"\"Attempts to authorize and launch a missile.\"\"\"\n",
    "        if LaunchAuthorizationSystem.validate_dual(auth_code1,auth_code2):\n",
    "            logging.info(f\"Launch authorized for {self.name}. Preparing to launch SLBM...\")\n",
    "            self.launch_missile()\n",
    "        else:\n",
    "            logging.error(\"Launch Authorization Failed! Access Denied.\")\n",
    "\n",
    "    def launch_missile(self):\n",
    "        \"\"\"Simulates launching a missile.\"\"\"\n",
    "        if self.warheads:\n",
    "            warhead = self.warheads.pop(0)  # Fire the first available warhead\n",
    "            logging.info(f\"🚀 Missile launched carrying {warhead.get_info()}!\")\n",
    "        else:\n",
    "            logging.warning(\"No warheads available for launch.\")\n",
    "\n",
    "# JSON Data (Simulating a warhead payload inventory)\n",
    "warhead_json = '''\n",
    "[\n",
    "    {\"warhead_id\": \"W001\", \"type\": \"Thermonuclear\", \"yield_kt\": 1000},\n",
    "    {\"warhead_id\": \"W002\", \"type\": \"Tactical\", \"yield_kt\": 300}\n",
    "]\n",
    "'''\n",
    "\n",
    "# Load warhead data\n",
    "warhead_data = json.loads(warhead_json)\n",
    "# Initialize submarine\n",
    "submarine = Submarine(\"USS Trident\", warhead_data)\n",
    "\n",
    "# Try launching with an incorrect code\n",
    "\n",
    "# submarine.authorize_launch(\"INVALID-123\")\n",
    "captainCode = input(\"Enter the Captain Code\")\n",
    "ExecutiveCode = input(\"Enter the Executive Officer's Code\")\n",
    "\n",
    "#AUTH-XYZ123-4567-SECURE auth key\n",
    "# Try launching with a valid code\n",
    "submarine.dual_authorize_launch(captainCode,ExecutiveCode)"
   ]
  },
  {
   "cell_type": "code",
   "execution_count": null,
   "id": "f038f518-6ea6-4ee0-ad30-6a1995107a04",
   "metadata": {},
   "outputs": [],
   "source": []
  },
  {
   "cell_type": "code",
   "execution_count": null,
   "id": "9a8d2e89-22e8-4e32-9bae-3ce47631752e",
   "metadata": {},
   "outputs": [],
   "source": []
  }
 ],
 "metadata": {
  "kernelspec": {
   "display_name": "Python 3 (ipykernel)",
   "language": "python",
   "name": "python3"
  },
  "language_info": {
   "codemirror_mode": {
    "name": "ipython",
    "version": 3
   },
   "file_extension": ".py",
   "mimetype": "text/x-python",
   "name": "python",
   "nbconvert_exporter": "python",
   "pygments_lexer": "ipython3",
   "version": "3.12.7"
  }
 },
 "nbformat": 4,
 "nbformat_minor": 5
}
