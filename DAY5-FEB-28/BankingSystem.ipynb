{
 "cells": [
  {
   "cell_type": "code",
   "execution_count": 7,
   "id": "2a14c21a-ad27-402c-abef-adcbbd6ea1b1",
   "metadata": {},
   "outputs": [
    {
     "name": "stdout",
     "output_type": "stream",
     "text": [
      "Insufficient Balance\n",
      "Withdrawl amount should be positive\n",
      "Current balance: 90\n"
     ]
    }
   ],
   "source": [
    "class InsufficientFundsError(Exception):\n",
    "    \"\"\"Custom exception for insufficient balance\"\"\"\n",
    "    def __init__(self, message):\n",
    "        self.message = message\n",
    "        super().__init__(self.message)\n",
    "\n",
    "class BankAccount:\n",
    "    def __init__(self, balance):\n",
    "        self.balance = balance\n",
    "\n",
    "    def withdraw(self, amount):\n",
    "        \"\"\"\n",
    "        Withdraws money from the account.\n",
    "        \n",
    "        :param amount: Amount to withdraw\n",
    "        :return: Remaining balance or error message\n",
    "        \"\"\"\n",
    "        try:\n",
    "            if amount<0:\n",
    "                raise ValueError\n",
    "            if amount > self.balance:\n",
    "                raise InsufficientFundsError(\"Insufficient Balance\")\n",
    "            self.balance -= amount\n",
    "            return f\"Current balance: {self.balance}\"\n",
    "        except ValueError:\n",
    "            return \"Withdrawl amount should be positive\"\n",
    "        except InsufficientFundsError as suff:\n",
    "            return suff\n",
    "        except Exception as e:\n",
    "            return \"Error : \",e\n",
    "\n",
    "# Example Usage:\n",
    "account = BankAccount(100)\n",
    "print(account.withdraw(150))  # Should raise InsufficientFundsError\n",
    "print(account.withdraw(-10))  # Should raise ValueError\n",
    "print(account.withdraw(10))\n"
   ]
  }
 ],
 "metadata": {
  "kernelspec": {
   "display_name": "Python 3 (ipykernel)",
   "language": "python",
   "name": "python3"
  },
  "language_info": {
   "codemirror_mode": {
    "name": "ipython",
    "version": 3
   },
   "file_extension": ".py",
   "mimetype": "text/x-python",
   "name": "python",
   "nbconvert_exporter": "python",
   "pygments_lexer": "ipython3",
   "version": "3.12.7"
  }
 },
 "nbformat": 4,
 "nbformat_minor": 5
}
