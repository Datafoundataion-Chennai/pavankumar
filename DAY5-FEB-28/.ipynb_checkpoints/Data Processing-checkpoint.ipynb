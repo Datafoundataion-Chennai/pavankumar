{
 "cells": [
  {
   "cell_type": "code",
   "execution_count": 13,
   "id": "398a1e0e-15c1-42ec-8730-c6e35eb6348f",
   "metadata": {},
   "outputs": [
    {
     "name": "stdout",
     "output_type": "stream",
     "text": [
      "Zero division Occurred\n",
      "Value Error Invalid Conversions from string to int\n",
      "Invaild Index is accessed from the data list\n",
      "5\n",
      "Error : list indices must be integers or slices, not str\n"
     ]
    }
   ],
   "source": [
    "def process_data(data, index):\n",
    "    \"\"\"\n",
    "    Processes data with error handling.\n",
    "    \n",
    "    :param data: List of numbers (strings that should be converted to int)\n",
    "    :param index: Index to divide with\n",
    "    :return: Processed result or error message\n",
    "    \"\"\"\n",
    "    try:\n",
    "        # TODO: Convert elements to integers\n",
    "        # TODO: Perform division\n",
    "        for i in range(len(data)):\n",
    "            data[i] = int(data[i])\n",
    "        x = 30\n",
    "        for i in data:\n",
    "             x= x/i\n",
    "        return data[index]\n",
    "    except ZeroDivisionError:\n",
    "        return \"Zero division Occurred\"\n",
    "    except ValueError:\n",
    "        return \"Value Error Invalid Conversions from string to int\" # TODO: Handle invalid conversions\n",
    "    except IndexError:\n",
    "        return \"Invaild Index is accessed from the data list\"\n",
    "    except Exception as e:\n",
    "        return f\"Error : {e}\"  # TODO: Handle unexpected errors\n",
    "\n",
    "# Example Usage:\n",
    "data_list = [\"10\", \"20\", \"0\", \"40\"]\n",
    "print(process_data(data_list, 2))  # Should handle division by zero\n",
    "print(process_data([\"10\", \"abc\", \"30\"], 1))  # Should handle ValueError\n",
    "print(process_data([10, 20], 5))  # Should handle IndexError\n",
    "print(process_data([10, 20,1,2,4,5], 5))\n",
    "print(process_data([10, 20,1,2,4,5], \"32\"))\n"
   ]
  },
  {
   "cell_type": "code",
   "execution_count": null,
   "id": "89d3e3b9-d482-47c0-b54d-46e0b5280322",
   "metadata": {},
   "outputs": [],
   "source": []
  }
 ],
 "metadata": {
  "kernelspec": {
   "display_name": "Python 3 (ipykernel)",
   "language": "python",
   "name": "python3"
  },
  "language_info": {
   "codemirror_mode": {
    "name": "ipython",
    "version": 3
   },
   "file_extension": ".py",
   "mimetype": "text/x-python",
   "name": "python",
   "nbconvert_exporter": "python",
   "pygments_lexer": "ipython3",
   "version": "3.12.7"
  }
 },
 "nbformat": 4,
 "nbformat_minor": 5
}
