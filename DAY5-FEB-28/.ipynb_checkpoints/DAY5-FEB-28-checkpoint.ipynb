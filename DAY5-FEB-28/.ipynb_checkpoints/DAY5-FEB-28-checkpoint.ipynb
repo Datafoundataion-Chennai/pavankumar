{
 "cells": [
  {
   "cell_type": "code",
   "execution_count": 1,
   "id": "f0fc8833-e936-499b-a26f-2e567827a40e",
   "metadata": {},
   "outputs": [
    {
     "name": "stdout",
     "output_type": "stream",
     "text": [
      "Object Created\n",
      "Object Created\n",
      "Object deleted\n",
      "Object deleted\n"
     ]
    },
    {
     "ename": "NameError",
     "evalue": "name 'c2' is not defined",
     "output_type": "error",
     "traceback": [
      "\u001b[1;31m---------------------------------------------------------------------------\u001b[0m",
      "\u001b[1;31mNameError\u001b[0m                                 Traceback (most recent call last)",
      "Cell \u001b[1;32mIn[1], line 14\u001b[0m\n\u001b[0;32m      9\u001b[0m     c2  \u001b[38;5;241m=\u001b[39m Car(\u001b[38;5;124m\"\u001b[39m\u001b[38;5;124mkumar\u001b[39m\u001b[38;5;124m\"\u001b[39m)\n\u001b[0;32m     10\u001b[0m testing()\n\u001b[1;32m---> 14\u001b[0m \u001b[38;5;28mprint\u001b[39m(c2\u001b[38;5;241m.\u001b[39mname)\n",
      "\u001b[1;31mNameError\u001b[0m: name 'c2' is not defined"
     ]
    }
   ],
   "source": [
    "class Car:\n",
    "    def __init__(self,name):\n",
    "        self.name = name\n",
    "        print(\"Object Created\")\n",
    "    def __del__(self):\n",
    "        print(\"Object deleted\")\n",
    "def testing():\n",
    "    c1  = Car(\"pavan\")\n",
    "    c2  = Car(\"kumar\")\n",
    "testing()\n",
    "\n",
    "\n",
    "\n",
    "print(c2.name)"
   ]
  },
  {
   "cell_type": "code",
   "execution_count": 6,
   "id": "9baf31ec-54d9-4ed2-901e-f8aed638497d",
   "metadata": {},
   "outputs": [
    {
     "name": "stdout",
     "output_type": "stream",
     "text": [
      "4\n",
      "2\n",
      "5\n"
     ]
    }
   ],
   "source": [
    "iterator = iter([4,2,5,7])\n",
    "print(next(iterator))\n",
    "print(next(iterator))\n",
    "print(next(iterator))\n"
   ]
  },
  {
   "cell_type": "code",
   "execution_count": 7,
   "id": "24791166-21be-4690-a97b-da32c2125f69",
   "metadata": {},
   "outputs": [
    {
     "name": "stdout",
     "output_type": "stream",
     "text": [
      "1\n",
      "2\n",
      "3\n",
      "4\n",
      "5\n"
     ]
    }
   ],
   "source": [
    "class IteratorP:\n",
    "    def __init__(self, start, end):\n",
    "        self.current = start\n",
    "        self.end = end\n",
    "    def __iter__(self):\n",
    "        return self \n",
    "    def __next__(self):\n",
    "        if self.current > self.end:\n",
    "            raise StopIteration \n",
    "        num = self.current\n",
    "        self.current += 1\n",
    "        return num\n",
    "\n",
    "numbers = IteratorP(1, 5)\n",
    "\n",
    "for num in numbers:\n",
    "    print(num)\n"
   ]
  },
  {
   "cell_type": "code",
   "execution_count": 3,
   "id": "abe14a6a-a000-4274-98ce-906fa0716a93",
   "metadata": {},
   "outputs": [
    {
     "ename": "SyntaxError",
     "evalue": "invalid syntax (997912852.py, line 8)",
     "output_type": "error",
     "traceback": [
      "\u001b[1;36m  Cell \u001b[1;32mIn[3], line 8\u001b[1;36m\u001b[0m\n\u001b[1;33m    li = [1,2,3,4,5,6,7,1,2,3,4,5,6,7,,2,3,6,7,2,4,6,7,8,33,2,1]\u001b[0m\n\u001b[1;37m                                      ^\u001b[0m\n\u001b[1;31mSyntaxError\u001b[0m\u001b[1;31m:\u001b[0m invalid syntax\n"
     ]
    }
   ],
   "source": [
    "#Exception Handling sample code:\n",
    "di = {\"name\":\"john\",\"age\":28}\n",
    "class UnderAgeError(Exception):\n",
    "    def __init__(self, message):\n",
    "        self.message = message\n",
    "        super().__init__(self.message)\n",
    "def display():\n",
    "    li = [1,2,3,4,5,6,7,1,2,3,4,5,6,7,,2,3,6,7,2,4,6,7,8,33,2,1]\n",
    "    for i in range(0,10):\n",
    "        try:\n",
    "            age = int(input(\"Enter your age\")) #value error\n",
    "           \n",
    "            if age < 16:\n",
    "                raise UnderAgeError(\"age less than 16\") #custom\n",
    "            if age > di[\"age\"]:\n",
    "                raise Exception(\"you're too old\")\n",
    "            if age%2 == 0:\n",
    "                 print(di[\"exp\"]) #key error\n",
    "            print(li[age])#index\n",
    "            \n",
    "            print(age + \" years\")#type\n",
    "        except (ZeroDivisionError, ValueError, KeyError) as e:\n",
    "            print(\"Incorrect Values\",e)\n",
    "        except UnderAgeError as u:\n",
    "            print(\"You are a kid!!!\",u)\n",
    "        except Exception as e:\n",
    "            print(\"ERR:::::\",e)\n",
    "        else:\n",
    "            print(\"no exceptions\")\n",
    "        finally:\n",
    "            print(\"END\")\n",
    "\n",
    "display()\n"
   ]
  },
  {
   "cell_type": "markdown",
   "id": "4228b2da-c675-4b7b-a055-295056689431",
   "metadata": {},
   "source": []
  }
 ],
 "metadata": {
  "kernelspec": {
   "display_name": "Python 3 (ipykernel)",
   "language": "python",
   "name": "python3"
  },
  "language_info": {
   "codemirror_mode": {
    "name": "ipython",
    "version": 3
   },
   "file_extension": ".py",
   "mimetype": "text/x-python",
   "name": "python",
   "nbconvert_exporter": "python",
   "pygments_lexer": "ipython3",
   "version": "3.12.7"
  }
 },
 "nbformat": 4,
 "nbformat_minor": 5
}
