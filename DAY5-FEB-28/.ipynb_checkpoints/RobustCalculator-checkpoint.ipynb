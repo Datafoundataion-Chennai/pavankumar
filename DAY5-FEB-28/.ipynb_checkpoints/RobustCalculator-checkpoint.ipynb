{
 "cells": [
  {
   "cell_type": "code",
   "execution_count": 8,
   "id": "17e1eb45-575c-40b7-8273-483709886697",
   "metadata": {},
   "outputs": [
    {
     "name": "stdout",
     "output_type": "stream",
     "text": [
      "Error: Division by zero\n",
      "Error: Invalid input type\n",
      "Error: Unsupported operator\n",
      "Valid values\n",
      "5\n",
      "15\n",
      "2.0\n",
      "0\n",
      "100000\n"
     ]
    }
   ],
   "source": [
    "# Online Python compiler (interpreter) to run Python online.\n",
    "# Write Python 3 code in this online editor and run it.\n",
    "def calculator(a, b, operator):\n",
    "    \"\"\"\n",
    "    Performs a calculation based on the given operator.\n",
    "    \n",
    "    :param a: First number (int/float)\n",
    "    :param b: Second number (int/float)\n",
    "    :param operator: String representing an operation (+, -, *, /, %, **)\n",
    "    :return: Computed result or error message\n",
    "    \"\"\"\n",
    "    try:\n",
    "        match operator:\n",
    "            case '+':\n",
    "                return a+b\n",
    "            case '-':\n",
    "                return a-b\n",
    "            case '*':\n",
    "                return a*b\n",
    "            case '/':\n",
    "                return a/b\n",
    "            case '%':\n",
    "                return a%b\n",
    "            case '**':\n",
    "                return a**b\n",
    "            case default:\n",
    "                raise ValueError\n",
    "    except ZeroDivisionError:\n",
    "        return \"Error: Division by zero\"\n",
    "    except ValueError:\n",
    "        return \"Error: Unsupported operator\"\n",
    "    except TypeError:\n",
    "        return \"Error: Invalid input type\"  # TODO: Handle non-numeric input\n",
    "    except Exception as e:\n",
    "        return \"Error: \",e # TODO: Handle any unexpected exceptions\n",
    "\n",
    "print(calculator(10, 0, \"/\"))  # Should return: \"Error: Division by zero\"\n",
    "print(calculator(10, \"five\", \"+\"))  # Should return: \"Error: Invalid input type\"\n",
    "print(calculator(10, 5, \"$\"))\n",
    "print(\"Valid values\")\n",
    "print(calculator(10, 5, \"-\"))\n",
    "print(calculator(10, 5, \"+\"))\n",
    "print(calculator(10, 5, \"/\"))\n",
    "print(calculator(10, 5, \"%\"))\n",
    "print(calculator(10, 5, \"**\"))\n"
   ]
  },
  {
   "cell_type": "code",
   "execution_count": null,
   "id": "1968e3cb-e272-4cbf-8150-5921b6d6271f",
   "metadata": {},
   "outputs": [],
   "source": [
    "# This code runs only in python 3.10 or above versions\n",
    "def number_to_string(argument):\n",
    "    match argument:\n",
    "        case 0:\n",
    "            return \"zero\"\n",
    "        case 1:\n",
    "            return \"one\"\n",
    "        case 2:\n",
    "            return \"two\"\n",
    "        case default:\n",
    "            return \"something\"\n",
    " \n",
    "\n",
    "head = number_to_string(2)\n",
    "print(head)\n",
    "print(3 + \"five\")"
   ]
  },
  {
   "cell_type": "code",
   "execution_count": null,
   "id": "ef4db21f-b9f6-4608-8f28-54e244d153fd",
   "metadata": {},
   "outputs": [],
   "source": []
  },
  {
   "cell_type": "code",
   "execution_count": null,
   "id": "a722b332-d80e-4d3e-b8bf-7d2c91fbc899",
   "metadata": {},
   "outputs": [],
   "source": []
  }
 ],
 "metadata": {
  "kernelspec": {
   "display_name": "Python 3 (ipykernel)",
   "language": "python",
   "name": "python3"
  },
  "language_info": {
   "codemirror_mode": {
    "name": "ipython",
    "version": 3
   },
   "file_extension": ".py",
   "mimetype": "text/x-python",
   "name": "python",
   "nbconvert_exporter": "python",
   "pygments_lexer": "ipython3",
   "version": "3.12.7"
  }
 },
 "nbformat": 4,
 "nbformat_minor": 5
}
