{
 "cells": [
  {
   "cell_type": "markdown",
   "id": "49fa08e2-279b-44ad-a0e4-eefc3db7c639",
   "metadata": {},
   "source": [
    "#### n = int(input(\"Enter the n\"))\n",
    "m = int(input(\"Enter the m\"))\n",
    "result = []\n",
    "def isPrime(x):\n",
    "    check = false\n",
    "    for i in range(2,x):\n",
    "        if x%i ==0:\n",
    "            check = true\n",
    "    return check\n",
    "for i in range(n):\n",
    "    for j in ranga(m):\n",
    "        while True:\n",
    "            x = int(input(\"Enter the value\"))\n",
    "            if check(x):\n",
    "                result[i][j]  = x\n",
    "                break\n",
    "            print(\"Enter Non prime values\")\n",
    "\n",
    "\n",
    "for i in range(n):\n",
    "    print(i)\n",
    "    "
   ]
  },
  {
   "cell_type": "code",
   "execution_count": null,
   "id": "6d02fcb8-9e4b-447a-b58a-d2eee454db57",
   "metadata": {},
   "outputs": [],
   "source": []
  },
  {
   "cell_type": "code",
   "execution_count": null,
   "id": "e9729c15-0635-496a-91e8-747569cbc828",
   "metadata": {},
   "outputs": [],
   "source": []
  }
 ],
 "metadata": {
  "kernelspec": {
   "display_name": "Python 3 (ipykernel)",
   "language": "python",
   "name": "python3"
  },
  "language_info": {
   "codemirror_mode": {
    "name": "ipython",
    "version": 3
   },
   "file_extension": ".py",
   "mimetype": "text/x-python",
   "name": "python",
   "nbconvert_exporter": "python",
   "pygments_lexer": "ipython3",
   "version": "3.12.7"
  }
 },
 "nbformat": 4,
 "nbformat_minor": 5
}
