{
 "cells": [
  {
   "cell_type": "code",
   "execution_count": 1,
   "id": "09d181a0-86f8-40cc-b57b-0a36d5fa1018",
   "metadata": {},
   "outputs": [
    {
     "name": "stdout",
     "output_type": "stream",
     "text": [
      "Hi hello pavan kumar\n"
     ]
    }
   ],
   "source": [
    "\n",
    "with open(\"test.txt\",\"r\") as file:\n",
    "    file = file.read()\n",
    "    print(file)"
   ]
  },
  {
   "cell_type": "code",
   "execution_count": 6,
   "id": "a199e0c5-30f6-4634-8eb1-5088797d7f6e",
   "metadata": {},
   "outputs": [
    {
     "name": "stdout",
     "output_type": "stream",
     "text": [
      "\n"
     ]
    }
   ],
   "source": [
    "\n",
    "with open(\"test.txt\",\"w+\") as file:\n",
    "    file.write(\"fdaksfjg\")\n",
    "    # print(file)\n",
    "    print(file.read())"
   ]
  },
  {
   "cell_type": "code",
   "execution_count": null,
   "id": "7f4b0919-a4cd-475e-8e00-12bd8c42a65b",
   "metadata": {},
   "outputs": [],
   "source": []
  }
 ],
 "metadata": {
  "kernelspec": {
   "display_name": "Python 3 (ipykernel)",
   "language": "python",
   "name": "python3"
  },
  "language_info": {
   "codemirror_mode": {
    "name": "ipython",
    "version": 3
   },
   "file_extension": ".py",
   "mimetype": "text/x-python",
   "name": "python",
   "nbconvert_exporter": "python",
   "pygments_lexer": "ipython3",
   "version": "3.12.7"
  }
 },
 "nbformat": 4,
 "nbformat_minor": 5
}
