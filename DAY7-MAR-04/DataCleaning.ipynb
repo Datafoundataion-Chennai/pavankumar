{
 "cells": [
  {
   "cell_type": "code",
   "execution_count": 1,
   "id": "dddd7b04-e8fd-4ca0-a3ef-a6806afada0c",
   "metadata": {},
   "outputs": [
    {
     "name": "stdout",
     "output_type": "stream",
     "text": [
      "{'uuid': 'T4SLBDQO1GM6YHQ0', 'date': '2020-11-12', 'firstname': 'Gary', 'surname': 'Hill', 'email': 'reda-roberts@daughters.is-a-hard-worker.comField Tags'}\n",
      "{'uuid': 'T4SLBDQO1GM6YHQ0', 'date': '2020-11-12', 'firstname': 'Gary', 'surname': 'Hill', 'email': 'reda-roberts@daughters.is-a-hard-worker.comField Tags'}\n",
      "{'uuid': 'Q5LPKDRC23D6DC06', 'date': '1975-04-22', 'firstname': 'Burt', 'surname': 'Fife', 'email': 'gretchen9@gmail.comField Tags'}\n",
      "{'uuid': 'Q5LPKDRC23D6DC06', 'date': '1975-04-22', 'firstname': 'Burt', 'surname': 'Fife', 'email': 'gretchen9@gmail.comField Tags'}\n",
      "Duplicates removed:  4\n",
      "Records with missing values:  0\n"
     ]
    }
   ],
   "source": [
    "import csv\n",
    "# with open(\"users_data.csv\",\"r\") as file:\n",
    "with open(\"task.csv\",\"r\") as file:\n",
    "    reader = csv.DictReader(file)\n",
    "    uuidList = []\n",
    "    duplicates = 0\n",
    "    missing = 0\n",
    "    for i in reader:\n",
    "        if i['uuid'] in uuidList:\n",
    "            duplicates +=1\n",
    "            print(i)\n",
    "            continue\n",
    "        else:\n",
    "            uuidList.append(i['uuid'])\n",
    "            # with open(\"cleaned_users_data.csv\",\"w\",newline=\"\") as outfile:\n",
    "            #     c =0\n",
    "            #     writer = csv.writer(file)\n",
    "            #     for j in i:\n",
    "            #         if c==0:\n",
    "            #             c+=1\n",
    "            #             writer.writerow(j)\n",
    "                        \n",
    "                \n",
    "        for j in i:\n",
    "            if i[j] == \"\" or i[j] == \" \" :\n",
    "                missing +=1\n",
    "    print(\"Duplicates removed: \",duplicates)\n",
    "    print(\"Records with missing values: \",missing)\n",
    "    "
   ]
  },
  {
   "cell_type": "code",
   "execution_count": null,
   "id": "c823c5cc-4978-4dc5-8095-453f545410ad",
   "metadata": {},
   "outputs": [],
   "source": []
  }
 ],
 "metadata": {
  "kernelspec": {
   "display_name": "Python 3 (ipykernel)",
   "language": "python",
   "name": "python3"
  },
  "language_info": {
   "codemirror_mode": {
    "name": "ipython",
    "version": 3
   },
   "file_extension": ".py",
   "mimetype": "text/x-python",
   "name": "python",
   "nbconvert_exporter": "python",
   "pygments_lexer": "ipython3",
   "version": "3.12.7"
  }
 },
 "nbformat": 4,
 "nbformat_minor": 5
}
