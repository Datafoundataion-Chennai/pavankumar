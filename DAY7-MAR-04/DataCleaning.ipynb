{
 "cells": [
  {
   "cell_type": "code",
   "execution_count": 35,
   "id": "dddd7b04-e8fd-4ca0-a3ef-a6806afada0c",
   "metadata": {},
   "outputs": [
    {
     "name": "stdout",
     "output_type": "stream",
     "text": [
      "<csv.DictReader object at 0x000001A6B3B21640>\n",
      "{'uuid': '123', 'date': '2025-03-01', 'firstname': 'John', 'surname': 'Doe', 'email': 'john@example.com'}\n",
      "{'uuid': '123', 'date': '2025-03-01', 'firstname': 'John', 'surname': 'Doe', 'email': 'john@example.com'}\n",
      "{'uuid': '124', 'date': '2025-03-02', 'firstname': 'Jane', 'surname': 'Smith', 'email': 'jane@example.com'}\n",
      "{'uuid': '124', 'date': '2025-03-02', 'firstname': 'Jane', 'surname': 'Smith', 'email': 'jane@example.com'}\n",
      "{'uuid': '123', 'date': '2025-03-01', 'firstname': 'John', 'surname': 'Doe', 'email': 'john@example.com '}\n",
      "{'uuid': '123', 'date': '2025-03-01', 'firstname': 'John', 'surname': 'Doe', 'email': 'john@example.com '}\n",
      "{'uuid': '125', 'date': '2025-03-03', 'firstname': 'Bob', 'surname': '', 'email': 'bob@example.com '}\n",
      "{'uuid': '125', 'date': '2025-03-03', 'firstname': 'Bob', 'surname': '', 'email': 'bob@example.com '}\n",
      "{'uuid': '126', 'date': '2025-03-04', 'firstname': 'Emily', 'surname': 'Clark', 'email': '  '}\n",
      "{'uuid': '126', 'date': '2025-03-04', 'firstname': 'Emily', 'surname': 'Clark', 'email': '  '}\n",
      "Duplicates removed:  1\n",
      "Records with missing values:  0\n"
     ]
    }
   ],
   "source": [
    "import csv\n",
    "with open(\"users_data.csv\",\"r\") as file:\n",
    "# with open(\"task.csv\",\"r\") as file:\n",
    "    reader = csv.DictReader(file)\n",
    "    uuidList = []\n",
    "    duplicates = 0\n",
    "    missing = 0\n",
    "    print(reader)\n",
    "    for i in reader:\n",
    "        print(i)\n",
    "        if i['uuid'] in uuidList:\n",
    "            duplicates +=1\n",
    "        else:\n",
    "            uuidList.append(i['uuid'])\n",
    "            # with open(\"cleaned_users_data.csv\",\"w\",newline=\"\") as outfile:\n",
    "            #     c =0\n",
    "            #     writer = csv.writer(file)\n",
    "            #     for j in i:\n",
    "            #         if c==0:\n",
    "            #             c+=1\n",
    "            #             writer.writerow(j)\n",
    "        if i['firstname'] != \"\" == len(i.keys()):\n",
    "            print(i)\n",
    "        else:\n",
    "            missing +=1\n",
    "        # for j in i:\n",
    "        #     if i[j] == \"\" or i[j] == \" \" :\n",
    "        #         missing +=1\n",
    "    print(\"Duplicates removed: \",duplicates)\n",
    "    print(\"Records with missing values: \",missing)\n",
    "    "
   ]
  },
  {
   "cell_type": "code",
   "execution_count": 18,
   "id": "c823c5cc-4978-4dc5-8095-453f545410ad",
   "metadata": {},
   "outputs": [
    {
     "name": "stdout",
     "output_type": "stream",
     "text": [
      "Duplicates removed: 1\n",
      "Records with missing values: 1\n"
     ]
    }
   ],
   "source": [
    "import csv\n",
    "\n",
    "# File paths\n",
    "input_file = \"users_data.csv\"\n",
    "cleaned_file = \"cleaned_users_data.csv\"\n",
    "incomplete_file = \"incomplete_users_data.csv\"\n",
    "\n",
    "# Data storage\n",
    "unique_records = {}\n",
    "incomplete_records = []\n",
    "\n",
    "# Read CSV file and process data\n",
    "with open(input_file, mode=\"r\", newline=\"\", encoding=\"utf-8\") as file:\n",
    "    reader = csv.DictReader(file)\n",
    "    \n",
    "    for row in reader:\n",
    "        uuid = row[\"uuid\"]\n",
    "        \n",
    "        # Check for missing values\n",
    "        if not row[\"firstname\"] or not row[\"surname\"] or not row[\"email\"]:\n",
    "            incomplete_records.append(row)\n",
    "            continue  # Skip adding to unique records\n",
    "        \n",
    "        # Store only unique records based on uuid (first occurrence)\n",
    "        if uuid not in unique_records:\n",
    "            unique_records[uuid] = row\n",
    "\n",
    "# Write cleaned data (unique & complete records)\n",
    "with open(cleaned_file, mode=\"w\", newline=\"\", encoding=\"utf-8\") as file:\n",
    "    writer = csv.DictWriter(file, fieldnames=[\"uuid\", \"date\", \"firstname\", \"surname\", \"email\"])\n",
    "    writer.writeheader()\n",
    "    writer.writerows(unique_records.values())\n",
    "\n",
    "# Write incomplete records (missing values)\n",
    "with open(incomplete_file, mode=\"w\", newline=\"\", encoding=\"utf-8\") as file:\n",
    "    writer = csv.DictWriter(file, fieldnames=[\"uuid\", \"date\", \"firstname\", \"surname\", \"email\"])\n",
    "    writer.writeheader()\n",
    "    writer.writerows(incomplete_records)\n",
    "\n",
    "# Output results\n",
    "print(f\"Duplicates removed: { len(unique_records) - len(incomplete_records)}\")\n",
    "print(f\"Records with missing values: {len(incomplete_records)}\")\n"
   ]
  },
  {
   "cell_type": "code",
   "execution_count": null,
   "id": "59f44050-f9cd-4f55-855d-e842cd802723",
   "metadata": {},
   "outputs": [],
   "source": []
  }
 ],
 "metadata": {
  "kernelspec": {
   "display_name": "Python 3 (ipykernel)",
   "language": "python",
   "name": "python3"
  },
  "language_info": {
   "codemirror_mode": {
    "name": "ipython",
    "version": 3
   },
   "file_extension": ".py",
   "mimetype": "text/x-python",
   "name": "python",
   "nbconvert_exporter": "python",
   "pygments_lexer": "ipython3",
   "version": "3.12.7"
  }
 },
 "nbformat": 4,
 "nbformat_minor": 5
}
