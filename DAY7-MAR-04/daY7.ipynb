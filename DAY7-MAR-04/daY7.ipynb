{
 "cells": [
  {
   "cell_type": "code",
   "execution_count": 1,
   "id": "09d181a0-86f8-40cc-b57b-0a36d5fa1018",
   "metadata": {},
   "outputs": [
    {
     "name": "stdout",
     "output_type": "stream",
     "text": [
      "Hi hello pavan kumar\n"
     ]
    }
   ],
   "source": [
    "\n",
    "with open(\"test.txt\",\"r\") as file:\n",
    "    file = file.read()\n",
    "    print(file)"
   ]
  },
  {
   "cell_type": "code",
   "execution_count": 6,
   "id": "a199e0c5-30f6-4634-8eb1-5088797d7f6e",
   "metadata": {},
   "outputs": [
    {
     "name": "stdout",
     "output_type": "stream",
     "text": [
      "\n"
     ]
    }
   ],
   "source": [
    "\n",
    "with open(\"test.txt\",\"w+\") as file:\n",
    "    file.write(\"fdaksfjg\")\n",
    "    # print(file)\n",
    "    print(file.read())"
   ]
  },
  {
   "cell_type": "code",
   "execution_count": 7,
   "id": "7f4b0919-a4cd-475e-8e00-12bd8c42a65b",
   "metadata": {},
   "outputs": [
    {
     "name": "stdout",
     "output_type": "stream",
     "text": [
      "File found\n"
     ]
    }
   ],
   "source": [
    "import os\n",
    "if os.path.exists(\"./test.txt\"):\n",
    "    print(\"File found\")\n",
    "else:\n",
    "    print(\"File does not exist\")"
   ]
  },
  {
   "cell_type": "code",
   "execution_count": 8,
   "id": "f86937b6-f8c9-4b7d-b1f3-265f501ff30d",
   "metadata": {},
   "outputs": [
    {
     "name": "stdout",
     "output_type": "stream",
     "text": [
      "End\n"
     ]
    }
   ],
   "source": [
    "import csv\n",
    "with open(\"Demo.csv\",\"w\", newline=\"\") as file:\n",
    "    writer = csv.writer(file)\n",
    "    writer.writerow([\"name\",\"age\"])\n",
    "    writer.writerow([\"Pavan\",23])\n",
    "    writer.writerow([\"name\",34])\n",
    "    writer.writerow([\"kumar\",12])\n",
    "    writer.writerow([\"pavan2\",43])\n",
    "\n",
    "print(\"End\")\n",
    "    "
   ]
  },
  {
   "cell_type": "code",
   "execution_count": 29,
   "id": "e9428883-daee-4cff-959a-1fce59fcbaf5",
   "metadata": {},
   "outputs": [
    {
     "name": "stdout",
     "output_type": "stream",
     "text": [
      "{'name': 'Pavan', 'age': '23'}\n",
      "{'name': 'name', 'age': '34'}\n",
      "{'name': 'kumar', 'age': '12'}\n",
      "{'name': 'pavan2', 'age': '43'}\n"
     ]
    }
   ],
   "source": [
    "import csv\n",
    "di ={}\n",
    "c = 0\n",
    "with open(\"Demo.csv\",\"r\") as file:\n",
    "    reader = csv.reader(file)\n",
    "    keys = []\n",
    "    for r in reader:\n",
    "        if c==0:\n",
    "            keys.append(r)\n",
    "            c+=1\n",
    "            continue\n",
    "        for i in range(len(r)):\n",
    "            di[keys[0][i]]= r[i]\n",
    "        print(di)"
   ]
  },
  {
   "cell_type": "code",
   "execution_count": 25,
   "id": "c23990f3-8581-4fbd-8ad1-f682dbfeb5f8",
   "metadata": {},
   "outputs": [],
   "source": [
    "import csv"
   ]
  },
  {
   "cell_type": "code",
   "execution_count": 26,
   "id": "9a6f1bcb-5e71-4b19-abaa-8a213aa95152",
   "metadata": {},
   "outputs": [
    {
     "name": "stdout",
     "output_type": "stream",
     "text": [
      "{'name': 'Pavan', 'age': '23'}\n",
      "{'name': 'name', 'age': '34'}\n",
      "{'name': 'kumar', 'age': '12'}\n",
      "{'name': 'pavan2', 'age': '43'}\n"
     ]
    }
   ],
   "source": [
    "with open(\"Demo.csv\",\"r\") as file:\n",
    "    reader = csv.DictReader(file)\n",
    "    for i in reader:\n",
    "        print(i)"
   ]
  },
  {
   "cell_type": "code",
   "execution_count": null,
   "id": "a9db9cd8-d702-46d5-b6ca-8410837c1751",
   "metadata": {},
   "outputs": [],
   "source": []
  },
  {
   "cell_type": "code",
   "execution_count": 33,
   "id": "751a466c-2000-45ed-9126-7fd00aaf372d",
   "metadata": {},
   "outputs": [
    {
     "name": "stdout",
     "output_type": "stream",
     "text": [
      "TechCorp\n",
      "TechCorp\n",
      "NewTech\n"
     ]
    }
   ],
   "source": [
    "class Company:\n",
    "    company_name = \"TechCorp\"  # Class variable\n",
    "\n",
    "    def __init__(self, emp_name):\n",
    "        self.emp_name = emp_name  # Instance variable\n",
    "\n",
    "emp1 = Company(\"John\")\n",
    "emp2 = Company(\"Emma\")\n",
    "\n",
    "print(emp1.company_name)  # Output: TechCorp\n",
    "print(emp2.company_name)  # Output: TechCorp\n",
    "\n",
    "Company.company_name = \"NewTech\"\n",
    "emp1.company_name = \"pavan\" # Output: NewTech\n",
    "print(emp2.company_name)  # Output: NewTech"
   ]
  },
  {
   "cell_type": "code",
   "execution_count": 37,
   "id": "553ce0c1-56a5-48ac-88b3-aa1fb206a5b3",
   "metadata": {},
   "outputs": [
    {
     "name": "stdout",
     "output_type": "stream",
     "text": [
      "Student: Alice, Age: 16\n",
      "XYZ School\n",
      "This is a static method in the Student class.\n"
     ]
    }
   ],
   "source": [
    "class Student:\n",
    "    school_name = \"ABC School\"  # Class variable\n",
    "\n",
    "    def __init__(self, name, age):\n",
    "        self.name = name\n",
    "        self.age = age\n",
    "\n",
    "    def show(self):  # Instance method\n",
    "        print(f\"Student: {self.name}, Age: {self.age}\")\n",
    "\n",
    "    @classmethod\n",
    "    def change_school(cls, new_name):  # Class method\n",
    "        cls.school_name = new_name\n",
    "\n",
    "    @staticmethod\n",
    "    def info():  # Static method\n",
    "        print(\"This is a static method in the Student class.\")\n",
    "\n",
    "# Creating objects\n",
    "s1 = Student(\"Alice\", 16)\n",
    "\n",
    "# Calling methods\n",
    "s1.show()  # Output: Student: Alice, Age: 16\n",
    "Student.change_school(\"XYZ School\")\n",
    "print(Student.school_name)  # Output: XYZ School\n",
    "Student.info()# Output: This is a static method in the Student class."
   ]
  },
  {
   "cell_type": "code",
   "execution_count": 41,
   "id": "160e82a1-92e5-4320-9dd7-8f6a267e6795",
   "metadata": {},
   "outputs": [
    {
     "name": "stdout",
     "output_type": "stream",
     "text": [
      "<class '__main__.D'>\n",
      "[<class '__main__.C'>, <class '__main__.A'>, <class 'object'>]\n",
      "Class B\n"
     ]
    }
   ],
   "source": [
    "class A:\n",
    "    def show(self):\n",
    "        print(\"Class A\")\n",
    "\n",
    "class B(A):\n",
    "    def show(self):\n",
    "        print(\"Class B\")\n",
    "\n",
    "class C(A):\n",
    "    def show(self):\n",
    "        print(\"Class C\")\n",
    "\n",
    "class D(B, C):  # Multiple inheritance\n",
    "    def __str__(self):\n",
    "        print(\"sdfjaklsdjfklsjdf\")\n",
    "\n",
    "obj = D()\n",
    "print(str(D))\n",
    "print(C.mro())\n",
    "obj.show()  # Output: Class B"
   ]
  },
  {
   "cell_type": "code",
   "execution_count": 59,
   "id": "b9073a80-f0b5-40ff-b3d7-201442a281f6",
   "metadata": {},
   "outputs": [
    {
     "name": "stdout",
     "output_type": "stream",
     "text": [
      "2\n",
      "0\n"
     ]
    },
    {
     "ename": "AttributeError",
     "evalue": "module 'math' has no attribute 'avg'",
     "output_type": "error",
     "traceback": [
      "\u001b[1;31m----------------------------------------------------------------\u001b[0m",
      "\u001b[1;31mAttributeError\u001b[0m                 Traceback (most recent call last)",
      "Cell \u001b[1;32mIn[59], line 6\u001b[0m\n\u001b[0;32m      4\u001b[0m \u001b[38;5;28mprint\u001b[39m(d\u001b[38;5;241m.\u001b[39mcount(\u001b[38;5;241m6\u001b[39m))\n\u001b[0;32m      5\u001b[0m \u001b[38;5;28mprint\u001b[39m(d\u001b[38;5;241m.\u001b[39mindex(\u001b[38;5;241m4\u001b[39m))\n\u001b[1;32m----> 6\u001b[0m \u001b[38;5;28mprint\u001b[39m(math\u001b[38;5;241m.\u001b[39mavg(d))\n\u001b[0;32m      7\u001b[0m d\n",
      "\u001b[1;31mAttributeError\u001b[0m: module 'math' has no attribute 'avg'"
     ]
    }
   ],
   "source": [
    "d = (4,5,6,6)\n",
    "# import math\n",
    "# d[2:] = [434]\n",
    "print(d.count(6))\n",
    "print(d.index(4))\n",
    "# print(math.avg(d))\n",
    "d"
   ]
  },
  {
   "cell_type": "code",
   "execution_count": null,
   "id": "f3cd809b-bb50-4b30-900c-c809dcd307f4",
   "metadata": {},
   "outputs": [],
   "source": []
  }
 ],
 "metadata": {
  "kernelspec": {
   "display_name": "Python 3 (ipykernel)",
   "language": "python",
   "name": "python3"
  },
  "language_info": {
   "codemirror_mode": {
    "name": "ipython",
    "version": 3
   },
   "file_extension": ".py",
   "mimetype": "text/x-python",
   "name": "python",
   "nbconvert_exporter": "python",
   "pygments_lexer": "ipython3",
   "version": "3.12.7"
  }
 },
 "nbformat": 4,
 "nbformat_minor": 5
}
