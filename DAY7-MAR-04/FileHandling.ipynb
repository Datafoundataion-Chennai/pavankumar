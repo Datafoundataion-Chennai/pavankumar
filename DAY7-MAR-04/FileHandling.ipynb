{
 "cells": [
  {
   "cell_type": "code",
   "execution_count": 27,
   "id": "02fd2f01-7fd5-4311-abdf-fab7a3e535c0",
   "metadata": {},
   "outputs": [
    {
     "name": "stdout",
     "output_type": "stream",
     "text": [
      "200 :  2\n",
      "404 :  1\n",
      "500 :  1\n",
      "503 :  1\n"
     ]
    }
   ],
   "source": [
    "count ={}\n",
    "with open(\"server_logs.txt\",\"r\") as file:\n",
    "    file = file.read().strip().split(\"\\n\")        \n",
    "    # file =file\n",
    "    for i in file:\n",
    "        i = i.strip().split(\" -\")\n",
    "        if int(i[1].strip()) >=500:\n",
    "            with open(\"error_logs.txt\",\"a\")as outfile:\n",
    "                for j in i:\n",
    "                    outfile.write(j)\n",
    "                outfile.write(\"\\n\")\n",
    "        if i[1].strip() in count:\n",
    "            count[i[1].strip()] +=1\n",
    "        else:\n",
    "            count[i[1].strip()] = 1\n",
    "    for i in count.keys():\n",
    "        print(int(i),\": \",count[i])"
   ]
  },
  {
   "cell_type": "code",
   "execution_count": null,
   "id": "e084ac9d-9a04-4872-971b-b7c16a09eafe",
   "metadata": {},
   "outputs": [],
   "source": []
  }
 ],
 "metadata": {
  "kernelspec": {
   "display_name": "Python 3 (ipykernel)",
   "language": "python",
   "name": "python3"
  },
  "language_info": {
   "codemirror_mode": {
    "name": "ipython",
    "version": 3
   },
   "file_extension": ".py",
   "mimetype": "text/x-python",
   "name": "python",
   "nbconvert_exporter": "python",
   "pygments_lexer": "ipython3",
   "version": "3.12.7"
  }
 },
 "nbformat": 4,
 "nbformat_minor": 5
}
