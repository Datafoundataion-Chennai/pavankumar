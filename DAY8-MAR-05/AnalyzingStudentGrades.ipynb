{
 "cells": [
  {
   "cell_type": "code",
   "execution_count": 22,
   "id": "b130f0f0-c5eb-4221-9c20-8ab25f1acfe0",
   "metadata": {},
   "outputs": [
    {
     "name": "stdout",
     "output_type": "stream",
     "text": [
      "Subject wise Average Marks :\n",
      " Subject\n",
      "Math       86.25\n",
      "Science    70.00\n",
      "Name: Marks, dtype: float64\n",
      "\n",
      "Students above 85 and Lessthan 90:\n",
      "   Student Subject  Marks  Attendance\n",
      "2    Mike    Math     90          95\n",
      "6   Chris    Math     92          97\n",
      "\n",
      "DataFrame with Grades:\n",
      "   Student  Subject  Marks  Attendance Grade\n",
      "0    John     Math     85          92     B\n",
      "1    Sara  Science     72          80     C\n",
      "2    Mike     Math     90          95     A\n",
      "3    Anna  Science     65          70     D\n",
      "4   David     Math     78          85     C\n",
      "5   Emily  Science     88          90     B\n",
      "6   Chris     Math     92          97     A\n",
      "7  Sophia  Science     55          60     D\n",
      "Grade\n",
      "B    2\n",
      "C    2\n",
      "A    2\n",
      "D    2\n",
      "Name: count, dtype: int64\n",
      "\n",
      "Correlation between Marks and Attendance:\n",
      "                Marks  Attendance\n",
      "Marks       1.000000    0.990177\n",
      "Attendance  0.990177    1.000000\n"
     ]
    }
   ],
   "source": [
    "import pandas as pd\n",
    "\n",
    "# Create the DataFrame\n",
    "data = {\n",
    "    'Student': ['John', 'Sara', 'Mike', 'Anna', 'David', 'Emily', 'Chris', 'Sophia'],\n",
    "    'Subject': ['Math', 'Science', 'Math', 'Science', 'Math', 'Science', 'Math', 'Science'],\n",
    "    'Marks': [85, 72, 90, 65, 78, 88, 92, 55],\n",
    "    'Attendance': [92, 80, 95, 70, 85, 90, 97, 60]\n",
    "}\n",
    "\n",
    "df = pd.DataFrame(data)\n",
    "avg_marks = df.groupby('Subject')['Marks'].mean()\n",
    "print(\"Subject wise Average Marks :\\n\",avg_marks)\n",
    "print(\"\\nStudents above 85 and Lessthan 90:\\n\",df[(df['Marks']>85) &(df['Attendance']>90)]) \n",
    "def grade(g):\n",
    "    if g>=90:\n",
    "        return 'A'\n",
    "    elif 80<= g <90:\n",
    "        return 'B'\n",
    "    elif 70<= g<80:\n",
    "        return 'C'\n",
    "    else:\n",
    "        return 'D'\n",
    "df[\"Grade\"] = df['Marks'].apply(grade)\n",
    "print(\"\\nDataFrame with Grades:\\n\", df)\n",
    "print(df['Grade'].value_counts())\n",
    "correlation = df[['Marks', 'Attendance']].corr()\n",
    "print(\"\\nCorrelation between Marks and Attendance:\\n\", correlation)"
   ]
  },
  {
   "cell_type": "code",
   "execution_count": null,
   "id": "b7002ee6-fa39-420f-8ff2-0c723dbf3664",
   "metadata": {},
   "outputs": [],
   "source": []
  }
 ],
 "metadata": {
  "kernelspec": {
   "display_name": "Python 3 (ipykernel)",
   "language": "python",
   "name": "python3"
  },
  "language_info": {
   "codemirror_mode": {
    "name": "ipython",
    "version": 3
   },
   "file_extension": ".py",
   "mimetype": "text/x-python",
   "name": "python",
   "nbconvert_exporter": "python",
   "pygments_lexer": "ipython3",
   "version": "3.12.7"
  }
 },
 "nbformat": 4,
 "nbformat_minor": 5
}
