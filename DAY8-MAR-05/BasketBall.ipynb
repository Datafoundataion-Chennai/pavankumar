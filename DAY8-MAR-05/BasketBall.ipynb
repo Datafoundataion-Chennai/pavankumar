{
 "cells": [
  {
   "cell_type": "code",
   "execution_count": 2,
   "id": "c68a3b39-845f-4243-bdf1-d3ba1df3ea00",
   "metadata": {},
   "outputs": [
    {
     "name": "stdout",
     "output_type": "stream",
     "text": [
      "[[12 49 31 23 48 10 34 35 30 46]\n",
      " [29 32 16 45 25 40 19 40 37 10]\n",
      " [30 12 27 15 36 27 14 30 25 40]\n",
      " [26 46 45 47 43 34 35 25 48 13]\n",
      " [46 31 13 32 32 18 15 22 10 41]]\n"
     ]
    }
   ],
   "source": [
    "import numpy as np\n",
    "dataset = np.random.randint(10,50,(5,10))\n",
    "print(dataset)"
   ]
  },
  {
   "cell_type": "code",
   "execution_count": 3,
   "id": "f0815882-3cbb-4c22-addf-15873493a69e",
   "metadata": {},
   "outputs": [
    {
     "name": "stdout",
     "output_type": "stream",
     "text": [
      "Average points per game:\n",
      "[31.8, 29.3, 25.6, 36.2, 26.0]\n",
      "\n",
      "Best-performing player: Player 3 (Total: 362 points)\n",
      "Worst-performing player: Player 2 (Total: 256 points)\n",
      "\n",
      "Games with scores above 30\n",
      "Player 1: Games [49 31 48 34 35 46]\n",
      "Player 2: Games [32 45 40 40 37]\n",
      "Player 3: Games [36 40]\n",
      "Player 4: Games [46 45 47 43 34 35 48]\n",
      "Player 5: Games [46 31 32 32 41]\n",
      "\n",
      "Sorted Players by Total Points\n",
      "1. Player 4 - 362 points\n",
      "2. Player 1 - 318 points\n",
      "3. Player 2 - 293 points\n",
      "4. Player 5 - 260 points\n",
      "5. Player 3 - 256 points\n"
     ]
    }
   ],
   "source": [
    "avg = (np.sum(dataset,axis =1))/10\n",
    "avg = [round(a,1) for a in avg]\n",
    "print(\"Average points per game:\")\n",
    "print(avg)\n",
    "sums = np.sum(dataset,axis=1)\n",
    "print()\n",
    "print(f\"Best-performing player: Player {np.where(sums==max(sums))[0][0]} (Total: {max(sums)} points)\")\n",
    "print(f\"Worst-performing player: Player {np.where(sums==min(sums))[0][0]} (Total: {min(sums)} points)\")\n",
    "print()\n",
    "print(\"Games with scores above 30\")\n",
    "for i in range(len(dataset)):\n",
    "    mask = dataset[i]>30\n",
    "    if len(dataset[i][mask]) != 0:\n",
    "        print(f\"Player {i+1}: Games {dataset[i][mask]}\")\n",
    "print()\n",
    "temp = {}\n",
    "for i in range(len(sums)):\n",
    "    temp[i+1] = sums[i]\n",
    "# print(temp)\n",
    "di = dict(sorted(temp.items(), key=lambda item: item[1],reverse = True))\n",
    "i =1\n",
    "print(\"Sorted Players by Total Points\")\n",
    "for j in di.keys():\n",
    "    print(f\"{i}. Player {j} - {di[j]} points\")\n",
    "    i+=1\n"
   ]
  },
  {
   "cell_type": "code",
   "execution_count": null,
   "id": "c9980c59-81ea-41a8-8284-5709dcb386c4",
   "metadata": {},
   "outputs": [],
   "source": []
  },
  {
   "cell_type": "code",
   "execution_count": null,
   "id": "934c66ed-19f7-44bb-8f1f-880de877f84e",
   "metadata": {},
   "outputs": [],
   "source": []
  }
 ],
 "metadata": {
  "kernelspec": {
   "display_name": "Python 3 (ipykernel)",
   "language": "python",
   "name": "python3"
  },
  "language_info": {
   "codemirror_mode": {
    "name": "ipython",
    "version": 3
   },
   "file_extension": ".py",
   "mimetype": "text/x-python",
   "name": "python",
   "nbconvert_exporter": "python",
   "pygments_lexer": "ipython3",
   "version": "3.12.7"
  }
 },
 "nbformat": 4,
 "nbformat_minor": 5
}
