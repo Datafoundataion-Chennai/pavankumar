{
 "cells": [
  {
   "cell_type": "code",
   "execution_count": 40,
   "id": "c68a3b39-845f-4243-bdf1-d3ba1df3ea00",
   "metadata": {},
   "outputs": [
    {
     "name": "stdout",
     "output_type": "stream",
     "text": [
      "[[13 35 18 40 36 45 46 27 27 32]\n",
      " [17 17 39 38 24 23 24 44 49 26]\n",
      " [33 48 33 37 30 25 35 40 33 46]\n",
      " [35 33 30 48 28 19 35 32 10 27]\n",
      " [41 38 14 38 18 20 34 42 42 24]]\n"
     ]
    }
   ],
   "source": [
    "import numpy as np\n",
    "dataset = np.random.randint(10,50,(5,10))\n",
    "print(dataset)"
   ]
  },
  {
   "cell_type": "code",
   "execution_count": 41,
   "id": "f0815882-3cbb-4c22-addf-15873493a69e",
   "metadata": {},
   "outputs": [
    {
     "name": "stdout",
     "output_type": "stream",
     "text": [
      "Average points per game:\n",
      "[31.9, 30.1, 36.0, 29.7, 31.1]\n",
      "\n",
      "Best-performing player: Player 2 (Total: 360 points)\n",
      "Worst-performing player: Player 3 (Total: 297 points)\n",
      "\n",
      "Games with scores above 30\n",
      "Player 1: Games [35 40 36 45 46 32]\n",
      "Player 2: Games [39 38 44 49]\n",
      "Player 3: Games [33 48 33 37 35 40 33 46]\n",
      "Player 4: Games [35 33 48 35 32]\n",
      "Player 5: Games [41 38 38 34 42 42]\n",
      "\n",
      "Sorted Players by Total Points\n",
      "1. Player 3 - 360 points\n",
      "2. Player 1 - 319 points\n",
      "3. Player 5 - 311 points\n",
      "4. Player 2 - 301 points\n",
      "5. Player 4 - 297 points\n"
     ]
    }
   ],
   "source": [
    "avg = (np.sum(dataset,axis =1))/10\n",
    "avg = [round(a,1) for a in avg]\n",
    "print(\"Average points per game:\")\n",
    "print(avg)\n",
    "sums = np.sum(dataset,axis=1)\n",
    "print()\n",
    "print(f\"Best-performing player: Player {np.where(sums==max(sums))[0][0]} (Total: {max(sums)} points)\")\n",
    "print(f\"Worst-performing player: Player {np.where(sums==min(sums))[0][0]} (Total: {min(sums)} points)\")\n",
    "print()\n",
    "print(\"Games with scores above 30\")\n",
    "for i in range(len(dataset)):\n",
    "    mask = dataset[i]>30\n",
    "    if len(dataset[i][mask]) != 0:\n",
    "        print(f\"Player {i+1}: Games {dataset[i][mask]}\")\n",
    "print()\n",
    "temp = {}\n",
    "for i in range(len(sums)):\n",
    "    temp[i+1] = sums[i]\n",
    "# print(temp)\n",
    "di = dict(sorted(temp.items(), key=lambda item: item[1],reverse = True))\n",
    "i =1\n",
    "print(\"Sorted Players by Total Points\")\n",
    "for j in di.keys():\n",
    "    print(f\"{i}. Player {j} - {di[j]} points\")\n",
    "    i+=1\n"
   ]
  },
  {
   "cell_type": "code",
   "execution_count": null,
   "id": "c9980c59-81ea-41a8-8284-5709dcb386c4",
   "metadata": {},
   "outputs": [],
   "source": []
  },
  {
   "cell_type": "code",
   "execution_count": null,
   "id": "934c66ed-19f7-44bb-8f1f-880de877f84e",
   "metadata": {},
   "outputs": [],
   "source": []
  }
 ],
 "metadata": {
  "kernelspec": {
   "display_name": "Python 3 (ipykernel)",
   "language": "python",
   "name": "python3"
  },
  "language_info": {
   "codemirror_mode": {
    "name": "ipython",
    "version": 3
   },
   "file_extension": ".py",
   "mimetype": "text/x-python",
   "name": "python",
   "nbconvert_exporter": "python",
   "pygments_lexer": "ipython3",
   "version": "3.12.7"
  }
 },
 "nbformat": 4,
 "nbformat_minor": 5
}
