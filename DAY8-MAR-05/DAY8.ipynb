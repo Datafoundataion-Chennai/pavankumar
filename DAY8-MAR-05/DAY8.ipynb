{
 "cells": [
  {
   "cell_type": "code",
   "execution_count": 1,
   "id": "a44d0fa8-1652-42bb-adf3-65c4b06ea697",
   "metadata": {},
   "outputs": [
    {
     "name": "stdout",
     "output_type": "stream",
     "text": [
      "Requirement already satisfied: numpy in c:\\users\\ediga\\anaconda3\\lib\\site-packages (1.26.4)\n"
     ]
    }
   ],
   "source": [
    "!pip install numpy"
   ]
  },
  {
   "cell_type": "code",
   "execution_count": 28,
   "id": "dcbd3b49-c864-4de1-b95d-e4ab22b1963b",
   "metadata": {},
   "outputs": [
    {
     "name": "stdout",
     "output_type": "stream",
     "text": [
      "[2 4 5]\n",
      "[[3 4]\n",
      " [4 6]]\n",
      "[[13 14]\n",
      " [14 16]]\n",
      "[[1. 1. 1.]\n",
      " [1. 1. 1.]\n",
      " [1. 1. 1.]]\n",
      "[[0. 0. 0.]\n",
      " [0. 0. 0.]\n",
      " [0. 0. 0.]]\n",
      "[1 3 5 7]\n",
      "[ 1.          1.47368421  1.94736842  2.42105263  2.89473684  3.36842105\n",
      "  3.84210526  4.31578947  4.78947368  5.26315789  5.73684211  6.21052632\n",
      "  6.68421053  7.15789474  7.63157895  8.10526316  8.57894737  9.05263158\n",
      "  9.52631579 10.        ]\n",
      "[[0.74239282 0.34271683 0.52819828 0.30634313]\n",
      " [0.28800207 0.74797393 0.58997283 0.77338058]\n",
      " [0.71334902 0.21925876 0.77523441 0.54472835]\n",
      " [0.7498044  0.28108699 0.87175675 0.3295678 ]]\n",
      "[[4 9 2 1]\n",
      " [2 5 7 1]\n",
      " [1 5 4 5]\n",
      " [5 7 2 7]]\n",
      "(2, 2)\n"
     ]
    }
   ],
   "source": [
    "import numpy as np\n",
    "\n",
    "arr = np.array([2,4,5,])\n",
    "arr2 = np.array([[3,4],[4,6]])\n",
    "zeros = np.ones((3,3))\n",
    "arr3 = np.zeros((3,3))\n",
    "arr4 = np.arange(1,9,2)\n",
    "arr5 = np.linspace(1,10,20)\n",
    "arr6 = np.random.rand(4,4)\n",
    "arr7 = np.random.randint(1,10,(4,4))\n",
    "print(arr)\n",
    "print(arr2)\n",
    "print(arr2+10)\n",
    "print(zeros)\n",
    "print(arr3)\n",
    "print(arr4)\n",
    "print(arr5)\n",
    "print(arr6)\n",
    "print(arr7)\n",
    "print(arr2.shape)\n",
    "                "
   ]
  },
  {
   "cell_type": "code",
   "execution_count": 29,
   "id": "04b40f76-7165-4f06-8a5a-aec6ee861697",
   "metadata": {},
   "outputs": [
    {
     "name": "stdout",
     "output_type": "stream",
     "text": [
      "[[ 6 13 24 48]\n",
      " [24 47 33  8]\n",
      " [10 34  8 11]]\n",
      "[10 34  8 11]\n"
     ]
    }
   ],
   "source": [
    "array2d = np.random.randint(1,50,(3,4))\n",
    "print(array2d)\n",
    "print(array2d[2,:])"
   ]
  },
  {
   "cell_type": "code",
   "execution_count": 33,
   "id": "9c3450f6-de2d-46b9-b766-16a8076b7c74",
   "metadata": {},
   "outputs": [
    {
     "name": "stdout",
     "output_type": "stream",
     "text": [
      "[[55 56 58 82]\n",
      " [63 62 25  5]\n",
      " [42 87 34 33]]\n"
     ]
    }
   ],
   "source": [
    "array2d = np.random.randint(1,50,(3,4))\n",
    "array2d2 = np.random.randint(1,50,(3,4))\n",
    "print(array2d + array2d2)\n"
   ]
  },
  {
   "cell_type": "code",
   "execution_count": 34,
   "id": "ebd26a42-260e-45a4-9a33-13ecb96130cd",
   "metadata": {},
   "outputs": [
    {
     "name": "stdout",
     "output_type": "stream",
     "text": [
      "[[2615 3136 2310 3805]\n",
      " [ 594 1651 1541 2674]\n",
      " [ 510 1434 1092 2331]]\n"
     ]
    }
   ],
   "source": [
    "array2d = np.random.randint(1,50,(3,4))\n",
    "array2d2 = np.random.randint(1,50,(4,4))\n",
    "\n",
    "print(np.dot(array2d,array2d2))"
   ]
  },
  {
   "cell_type": "code",
   "execution_count": 38,
   "id": "1406e13c-8f20-4cc9-b672-569586799b02",
   "metadata": {},
   "outputs": [
    {
     "name": "stdout",
     "output_type": "stream",
     "text": [
      "[[2 3 4 2]\n",
      " [3 1 1 4]\n",
      " [3 3 1 4]]\n",
      "[11  9 11]\n"
     ]
    }
   ],
   "source": [
    "array2d = np.random.randint(1,5,(3,4))\n",
    "# array2d2 = np.random.randint(1,50,(3,4))\n",
    "print(array2d)\n",
    "print(np.sum(array2d,axis = 1)) #0 = columns sum -- 2 for rows sum"
   ]
  },
  {
   "cell_type": "code",
   "execution_count": 40,
   "id": "30207346-3cf4-45e5-a28b-c347b08de15e",
   "metadata": {},
   "outputs": [
    {
     "name": "stdout",
     "output_type": "stream",
     "text": [
      "[ 0  1  2  3  4  5  6  7  8  9 10 11]\n",
      "[[ 0  1  2  3]\n",
      " [ 4  5  6  7]\n",
      " [ 8  9 10 11]]\n",
      "[[ 0  4  8]\n",
      " [ 1  5  9]\n",
      " [ 2  6 10]\n",
      " [ 3  7 11]]\n"
     ]
    }
   ],
   "source": [
    "arr = np.arange(0,12)\n",
    "arr_mod = arr.reshape(3,4)\n",
    "print(arr)\n",
    "print(arr_mod)\n",
    "print(arr_mod.T)#transpose"
   ]
  },
  {
   "cell_type": "code",
   "execution_count": 45,
   "id": "8b9741ab-b61b-4b1c-98b7-4df386efaecd",
   "metadata": {},
   "outputs": [
    {
     "name": "stdout",
     "output_type": "stream",
     "text": [
      "[array([0, 1, 2, 3]), array([4, 5, 6, 7]), array([ 8,  9, 10, 11])]\n",
      "[ 3  4  5  6  7  8  9 10 11]\n",
      "[[ 0  1  2  3  4  5  6  7  8  9 10 11]\n",
      " [ 0  1  2  3  4  5  6  7  8  9 10 11]]\n",
      "[ 0  1  2  3  4  5  6  7  8  9 10 11  0  1  2  3  4  5  6  7  8  9 10 11]\n"
     ]
    }
   ],
   "source": [
    "arr = np.arange(0,12)\n",
    "arr1 = np.arange(0,12)\n",
    "print(np.split(arr,3))\n",
    "mask = arr>2\n",
    "print(arr[mask])\n",
    "print(np.vstack((arr,arr1)))\n",
    "print(np.hstack((arr,arr1)))"
   ]
  },
  {
   "cell_type": "code",
   "execution_count": 50,
   "id": "efb9d479-c2fe-4ee7-816e-97ca927b72a2",
   "metadata": {},
   "outputs": [
    {
     "name": "stdout",
     "output_type": "stream",
     "text": [
      "[[ 0  1  2  3]\n",
      " [ 4  5  6  7]\n",
      " [ 8  9 10 11]\n",
      " [12 13 14 15]]\n"
     ]
    }
   ],
   "source": [
    "arr = np.arange(0,16)\n",
    "print(arr.reshape(4,4))"
   ]
  },
  {
   "cell_type": "code",
   "execution_count": 51,
   "id": "1f335820-2504-4d68-823c-ccb80a18c5d3",
   "metadata": {},
   "outputs": [
    {
     "name": "stdout",
     "output_type": "stream",
     "text": [
      "Requirement already satisfied: pandas in c:\\users\\ediga\\anaconda3\\lib\\site-packages (2.2.2)\n",
      "Requirement already satisfied: numpy>=1.26.0 in c:\\users\\ediga\\anaconda3\\lib\\site-packages (from pandas) (1.26.4)\n",
      "Requirement already satisfied: python-dateutil>=2.8.2 in c:\\users\\ediga\\anaconda3\\lib\\site-packages (from pandas) (2.9.0.post0)\n",
      "Requirement already satisfied: pytz>=2020.1 in c:\\users\\ediga\\anaconda3\\lib\\site-packages (from pandas) (2024.1)\n",
      "Requirement already satisfied: tzdata>=2022.7 in c:\\users\\ediga\\anaconda3\\lib\\site-packages (from pandas) (2023.3)\n",
      "Requirement already satisfied: six>=1.5 in c:\\users\\ediga\\anaconda3\\lib\\site-packages (from python-dateutil>=2.8.2->pandas) (1.16.0)\n"
     ]
    }
   ],
   "source": [
    "!pip install pandas"
   ]
  },
  {
   "cell_type": "code",
   "execution_count": 75,
   "id": "44ed7adb-c8ed-43f7-b35b-e43f845065d5",
   "metadata": {},
   "outputs": [
    {
     "name": "stdout",
     "output_type": "stream",
     "text": [
      "<class 'pandas.core.series.Series'>\n",
      "Index: 3 entries, a to c\n",
      "Series name: None\n",
      "Non-Null Count  Dtype\n",
      "--------------  -----\n",
      "3 non-null      int64\n",
      "dtypes: int64(1)\n",
      "memory usage: 48.0+ bytes\n",
      "None\n",
      "(3,)\n"
     ]
    }
   ],
   "source": [
    "import pandas as pd\n",
    "s = pd.Series([23,54,23],index = ['a','b','c'])\n",
    "# print(s)\n",
    "print(s.info())\n",
    "# print(s.describe())\n",
    "print(s.shape)"
   ]
  },
  {
   "cell_type": "code",
   "execution_count": 79,
   "id": "9dda4499-57c5-4526-ac7b-dff04a46b664",
   "metadata": {},
   "outputs": [],
   "source": [
    "data = {\n",
    "    \"name\":[\"pavan\",\"kumar\"],\n",
    "    \"place\":[3,4],\n",
    "}\n",
    "\n",
    "df = pd.DataFrame(data)\n",
    "# print(df)\n",
    "# for i,j in df.iterrows():\n",
    "    # print(j)\n",
    "df.to_csv(\"demo.csv\",index = False)"
   ]
  },
  {
   "cell_type": "code",
   "execution_count": 80,
   "id": "22aefedb-8c8c-4c73-814b-48ab770cf909",
   "metadata": {},
   "outputs": [
    {
     "name": "stdout",
     "output_type": "stream",
     "text": [
      "    name  place\n",
      "0  pavan      3\n",
      "1  kumar      4\n"
     ]
    }
   ],
   "source": [
    "d1 = pd.read_csv(\"demo.csv\")\n",
    "print(d1)"
   ]
  },
  {
   "cell_type": "code",
   "execution_count": null,
   "id": "78332362-f239-47d3-9ca7-8cf86f2c0a70",
   "metadata": {},
   "outputs": [],
   "source": []
  }
 ],
 "metadata": {
  "kernelspec": {
   "display_name": "Python 3 (ipykernel)",
   "language": "python",
   "name": "python3"
  },
  "language_info": {
   "codemirror_mode": {
    "name": "ipython",
    "version": 3
   },
   "file_extension": ".py",
   "mimetype": "text/x-python",
   "name": "python",
   "nbconvert_exporter": "python",
   "pygments_lexer": "ipython3",
   "version": "3.12.7"
  }
 },
 "nbformat": 4,
 "nbformat_minor": 5
}
