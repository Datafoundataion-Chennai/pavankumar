{
 "cells": [
  {
   "cell_type": "code",
   "execution_count": 1,
   "id": "a44d0fa8-1652-42bb-adf3-65c4b06ea697",
   "metadata": {},
   "outputs": [
    {
     "name": "stdout",
     "output_type": "stream",
     "text": [
      "Requirement already satisfied: numpy in c:\\users\\ediga\\anaconda3\\lib\\site-packages (1.26.4)\n"
     ]
    }
   ],
   "source": [
    "!pip install numpy"
   ]
  },
  {
   "cell_type": "code",
   "execution_count": 28,
   "id": "dcbd3b49-c864-4de1-b95d-e4ab22b1963b",
   "metadata": {},
   "outputs": [
    {
     "name": "stdout",
     "output_type": "stream",
     "text": [
      "[2 4 5]\n",
      "[[3 4]\n",
      " [4 6]]\n",
      "[[13 14]\n",
      " [14 16]]\n",
      "[[1. 1. 1.]\n",
      " [1. 1. 1.]\n",
      " [1. 1. 1.]]\n",
      "[[0. 0. 0.]\n",
      " [0. 0. 0.]\n",
      " [0. 0. 0.]]\n",
      "[1 3 5 7]\n",
      "[ 1.          1.47368421  1.94736842  2.42105263  2.89473684  3.36842105\n",
      "  3.84210526  4.31578947  4.78947368  5.26315789  5.73684211  6.21052632\n",
      "  6.68421053  7.15789474  7.63157895  8.10526316  8.57894737  9.05263158\n",
      "  9.52631579 10.        ]\n",
      "[[0.74239282 0.34271683 0.52819828 0.30634313]\n",
      " [0.28800207 0.74797393 0.58997283 0.77338058]\n",
      " [0.71334902 0.21925876 0.77523441 0.54472835]\n",
      " [0.7498044  0.28108699 0.87175675 0.3295678 ]]\n",
      "[[4 9 2 1]\n",
      " [2 5 7 1]\n",
      " [1 5 4 5]\n",
      " [5 7 2 7]]\n",
      "(2, 2)\n"
     ]
    }
   ],
   "source": [
    "import numpy as np\n",
    "\n",
    "arr = np.array([2,4,5,])\n",
    "arr2 = np.array([[3,4],[4,6]])\n",
    "zeros = np.ones((3,3))\n",
    "arr3 = np.zeros((3,3))\n",
    "arr4 = np.arange(1,9,2)\n",
    "arr5 = np.linspace(1,10,20)\n",
    "arr6 = np.random.rand(4,4)\n",
    "arr7 = np.random.randint(1,10,(4,4))\n",
    "print(arr)\n",
    "print(arr2)\n",
    "print(arr2+10)\n",
    "print(zeros)\n",
    "print(arr3)\n",
    "print(arr4)\n",
    "print(arr5)\n",
    "print(arr6)\n",
    "print(arr7)\n",
    "print(arr2.shape)\n",
    "                "
   ]
  },
  {
   "cell_type": "code",
   "execution_count": 29,
   "id": "04b40f76-7165-4f06-8a5a-aec6ee861697",
   "metadata": {},
   "outputs": [
    {
     "name": "stdout",
     "output_type": "stream",
     "text": [
      "[[ 6 13 24 48]\n",
      " [24 47 33  8]\n",
      " [10 34  8 11]]\n",
      "[10 34  8 11]\n"
     ]
    }
   ],
   "source": [
    "array2d = np.random.randint(1,50,(3,4))\n",
    "print(array2d)\n",
    "print(array2d[2,:])"
   ]
  },
  {
   "cell_type": "code",
   "execution_count": 32,
   "id": "9c3450f6-de2d-46b9-b766-16a8076b7c74",
   "metadata": {},
   "outputs": [
    {
     "ename": "ValueError",
     "evalue": "operands could not be broadcast together with shapes (3,4) (4,2) ",
     "output_type": "error",
     "traceback": [
      "\u001b[1;31m---------------------------------------------------------------------------\u001b[0m",
      "\u001b[1;31mValueError\u001b[0m                                Traceback (most recent call last)",
      "Cell \u001b[1;32mIn[32], line 3\u001b[0m\n\u001b[0;32m      1\u001b[0m array2d \u001b[38;5;241m=\u001b[39m np\u001b[38;5;241m.\u001b[39mrandom\u001b[38;5;241m.\u001b[39mrandint(\u001b[38;5;241m1\u001b[39m,\u001b[38;5;241m50\u001b[39m,(\u001b[38;5;241m3\u001b[39m,\u001b[38;5;241m4\u001b[39m))\n\u001b[0;32m      2\u001b[0m array2d2 \u001b[38;5;241m=\u001b[39m np\u001b[38;5;241m.\u001b[39mrandom\u001b[38;5;241m.\u001b[39mrandint(\u001b[38;5;241m1\u001b[39m,\u001b[38;5;241m50\u001b[39m,(\u001b[38;5;241m4\u001b[39m,\u001b[38;5;241m2\u001b[39m))\n\u001b[1;32m----> 3\u001b[0m \u001b[38;5;28mprint\u001b[39m(array2d \u001b[38;5;241m*\u001b[39m array2d2)\n",
      "\u001b[1;31mValueError\u001b[0m: operands could not be broadcast together with shapes (3,4) (4,2) "
     ]
    }
   ],
   "source": [
    "array2d = np.random.randint(1,50,(3,4))\n",
    "array2d2 = np.random.randint(1,50,(4,2))\n",
    "print(array2d + array2d2)\n"
   ]
  },
  {
   "cell_type": "code",
   "execution_count": null,
   "id": "ebd26a42-260e-45a4-9a33-13ecb96130cd",
   "metadata": {},
   "outputs": [],
   "source": []
  }
 ],
 "metadata": {
  "kernelspec": {
   "display_name": "Python 3 (ipykernel)",
   "language": "python",
   "name": "python3"
  },
  "language_info": {
   "codemirror_mode": {
    "name": "ipython",
    "version": 3
   },
   "file_extension": ".py",
   "mimetype": "text/x-python",
   "name": "python",
   "nbconvert_exporter": "python",
   "pygments_lexer": "ipython3",
   "version": "3.12.7"
  }
 },
 "nbformat": 4,
 "nbformat_minor": 5
}
