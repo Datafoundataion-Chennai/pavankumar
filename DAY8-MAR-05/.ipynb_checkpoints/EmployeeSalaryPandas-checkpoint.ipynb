{
 "cells": [
  {
   "cell_type": "code",
   "execution_count": 26,
   "id": "00a7da7d-08d4-43cc-8c28-383106443e71",
   "metadata": {},
   "outputs": [
    {
     "name": "stdout",
     "output_type": "stream",
     "text": [
      "Average Salary of employees in Each Department\n",
      "Department\n",
      "Finance    82500.00\n",
      "HR         71666.67\n",
      "IT         65666.67\n",
      "Name: Salary, dtype: float64\n",
      "\n",
      "High-Paid employee in each Department\n",
      "   Employee Department  Age  Salary  Experience\n",
      "5    Frank    Finance   45   90000          20\n",
      "7   Hannah         HR   38   85000          12\n",
      "1      Bob         IT   32   70000           7\n",
      "\n",
      "Number of Employees which are 5+ Experience and Salary above 65000 : 5\n",
      "\n",
      "  Employee Department  Age  Salary  Experience  Seniority\n",
      "0    Alice         HR   25   50000           2     Junior\n",
      "1      Bob         IT   32   70000           7  Mid-Level\n",
      "2  Charlie         IT   29   65000           5  Mid-Level\n",
      "3    David         HR   41   80000          15     Senior\n",
      "4     Emma    Finance   37   75000          10  Mid-Level\n",
      "5    Frank    Finance   45   90000          20     Senior\n",
      "6    Grace         IT   26   62000           3     Junior\n",
      "7   Hannah         HR   38   85000          12     Senior\n",
      "\n",
      "IT department employees Descending order list\n",
      "   Employee Department  Age  Salary  Experience  Seniority\n",
      "1      Bob         IT   32   70000           7  Mid-Level\n",
      "2  Charlie         IT   29   65000           5  Mid-Level\n",
      "6    Grace         IT   26   62000           3     Junior\n"
     ]
    }
   ],
   "source": [
    "import pandas as pd\n",
    "\n",
    "data = {\n",
    "    'Employee': ['Alice', 'Bob', 'Charlie', 'David', 'Emma', 'Frank', 'Grace', 'Hannah'],\n",
    "    'Department': ['HR', 'IT', 'IT', 'HR', 'Finance', 'Finance', 'IT', 'HR'],\n",
    "    'Age': [25, 32, 29, 41, 37, 45, 26, 38],\n",
    "    'Salary': [50000, 70000, 65000, 80000, 75000, 90000, 62000, 85000],\n",
    "    'Experience': [2, 7, 5, 15, 10, 20, 3, 12]\n",
    "}\n",
    "\n",
    "df = pd.DataFrame(data)\n",
    "print(\"Average Salary of employees in Each Department\")\n",
    "print(round(df.groupby(\"Department\")[\"Salary\"].mean(),2))\n",
    "print(\"\\nHigh-Paid employee in each Department\\n\", df.loc[df.groupby(\"Department\")[\"Salary\"].idxmax()])\n",
    "filtered = df[(df['Experience']>5)&(df['Salary']>65000)].shape[0]\n",
    "print(\"\\nNumber of Employees which are 5+ Experience and Salary above 65000 :\",filtered)\n",
    "print()\n",
    "def categorize_experience(exp):\n",
    "    if exp < 5:\n",
    "        return \"Junior\"\n",
    "    elif 5 <= exp <= 10:\n",
    "        return \"Mid-Level\"\n",
    "    else:\n",
    "        return \"Senior\"\n",
    "\n",
    "df['Seniority'] = df['Experience'].apply(categorize_experience)\n",
    "print(df)\n",
    "sortITemployee = df[df['Department']=='IT'].sort_values(by='Salary',ascending=False)\n",
    "print(\"\\nIT department employees Descending order list\\n\",sortITemployee)"
   ]
  },
  {
   "cell_type": "code",
   "execution_count": null,
   "id": "2382cdd5-3e15-497c-84ae-d57ab2a6a288",
   "metadata": {},
   "outputs": [],
   "source": []
  }
 ],
 "metadata": {
  "kernelspec": {
   "display_name": "Python 3 (ipykernel)",
   "language": "python",
   "name": "python3"
  },
  "language_info": {
   "codemirror_mode": {
    "name": "ipython",
    "version": 3
   },
   "file_extension": ".py",
   "mimetype": "text/x-python",
   "name": "python",
   "nbconvert_exporter": "python",
   "pygments_lexer": "ipython3",
   "version": "3.12.7"
  }
 },
 "nbformat": 4,
 "nbformat_minor": 5
}
