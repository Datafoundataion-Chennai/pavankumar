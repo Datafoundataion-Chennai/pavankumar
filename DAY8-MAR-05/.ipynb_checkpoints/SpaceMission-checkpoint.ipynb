{
 "cells": [
  {
   "cell_type": "code",
   "execution_count": 9,
   "id": "a996a252-703c-4c89-8eae-b17ee3baef7e",
   "metadata": {},
   "outputs": [
    {
     "name": "stdout",
     "output_type": "stream",
     "text": [
      "[[22 31 15]\n",
      " [71 41 23]\n",
      " [70 78 16]\n",
      " [55 77 30]\n",
      " [74 84 52]\n",
      " [25 41 42]]\n"
     ]
    }
   ],
   "source": [
    "import numpy as np\n",
    "resources = np.random.randint(10,99,(6,3))\n",
    "print(resources)"
   ]
  },
  {
   "cell_type": "code",
   "execution_count": 21,
   "id": "d41b4639-cfb3-4693-8ec4-78602966aa1f",
   "metadata": {},
   "outputs": [
    {
     "name": "stdout",
     "output_type": "stream",
     "text": [
      "Total Resources needed (tons): Oxygen:317, Water: 352, Food: 178\n",
      "Highest consumption in a month: Water (84 tons in 4)\n",
      "Standard Deviation of consumption: Oxygen: 21.6, Water: 21.4, Food: 13.5\n",
      "Transposed matrix:\n",
      "[[22 71 70 55 74 25]\n",
      " [31 41 78 77 84 41]\n",
      " [15 23 16 30 52 42]]\n"
     ]
    }
   ],
   "source": [
    "totalR = np.sum(resources,axis = 0)\n",
    "print(f\"Total Resources needed (tons): Oxygen:{totalR[0]}, Water: {totalR[1]}, Food: {totalR[2]}\")\n",
    "maxi = np.max(resources)\n",
    "index = np.argwhere(resources==maxi)\n",
    "match index[0][1]:\n",
    "    case 1:\n",
    "        highComMonth = \"Water\"\n",
    "    case 0:\n",
    "        highComMonth = \"Oxygen\"\n",
    "    case 2:\n",
    "        highComMonth = \"Food\"\n",
    "\n",
    "print(f\"Highest consumption in a month: {highComMonth} ({maxi} tons in {index[0][0]})\")\n",
    "stdOfOxygen = np.std(resources[:,0])\n",
    "stdOfWater = np.std(resources[:,1])\n",
    "stdOfFood = np.std(resources[:,2])\n",
    "print(f\"Standard Deviation of consumption: Oxygen: {round(stdOfOxygen,1)}, Water: {round(stdOfWater,1)}, Food: {round(stdOfFood,1)}\")\n",
    "print(\"Transposed matrix:\")\n",
    "print(resources.T)"
   ]
  },
  {
   "cell_type": "code",
   "execution_count": null,
   "id": "a9cebec2-d884-40b1-a4c8-e4334f13184d",
   "metadata": {},
   "outputs": [],
   "source": []
  }
 ],
 "metadata": {
  "kernelspec": {
   "display_name": "Python 3 (ipykernel)",
   "language": "python",
   "name": "python3"
  },
  "language_info": {
   "codemirror_mode": {
    "name": "ipython",
    "version": 3
   },
   "file_extension": ".py",
   "mimetype": "text/x-python",
   "name": "python",
   "nbconvert_exporter": "python",
   "pygments_lexer": "ipython3",
   "version": "3.12.7"
  }
 },
 "nbformat": 4,
 "nbformat_minor": 5
}
