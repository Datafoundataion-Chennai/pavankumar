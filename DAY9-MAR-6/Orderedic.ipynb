{
 "cells": [
  {
   "cell_type": "code",
   "execution_count": 12,
   "id": "29726649-3ebe-444c-8d0a-9c67e9063649",
   "metadata": {},
   "outputs": [
    {
     "name": "stdout",
     "output_type": "stream",
     "text": [
      "OrderedDict({'bread': 8, 'milk': 3, 'cigarettes': 4})\n"
     ]
    }
   ],
   "source": [
    "#1 Managing a Prison Canteen\n",
    "from collections import Counter,OrderedDict\n",
    "requests = [\n",
    "    (\"bread\", 5),\n",
    "    (\"milk\", 2),\n",
    "    (\"bread\", 3),\n",
    "    (\"cigarettes\", 4),\n",
    "    (\"milk\", 1)\n",
    "]\n",
    "temp =OrderedDict()\n",
    "count = Counter()\n",
    "for i,j in requests:\n",
    "    count[i] += j\n",
    "for i in count:\n",
    "    temp[i] = count[i]\n",
    "print(temp)"
   ]
  },
  {
   "cell_type": "code",
   "execution_count": null,
   "id": "fda77cba-a06a-4dbd-a04c-180ba28f3a15",
   "metadata": {},
   "outputs": [],
   "source": [
    "#2 Warzone Battlefield Encryption\n",
    "import defaultDict\n",
    "codewords = [\"attack\", \"retreat\", \"sniper\", \"danger\", \"tanks\", \"enemy\"]\n",
    "intercepted = [\"ckatta\", \"ratreet\", \"ksnat\", \"shadow\"]\n"
   ]
  },
  {
   "cell_type": "code",
   "execution_count": 24,
   "id": "d9061582-4cf4-4534-b9db-e601915c6ab2",
   "metadata": {},
   "outputs": [
    {
     "name": "stdout",
     "output_type": "stream",
     "text": [
      "UNKNOWN\n"
     ]
    }
   ],
   "source": [
    "from collections import defaultdict\n",
    "\n",
    "# Creating a defaultdict with int (default value = 0)\n",
    "count_dict = defaultdict(list)\n",
    "count_dict = defaultdict(lambda:\"UNKNOWN\")\n",
    "print(count_dict['a'])\n",
    "# Adding values\n",
    "# count_dict['a'] += 1\n",
    "# count_dict['b'] += 2\n",
    "\n",
    "# print(count_dict)  # Output: defaultdict(<class 'int'>, {'a': 1, 'b': 2})\n",
    "\n",
    "# # Creating a defaultdict with list (default value = empty list)\n",
    "# list_dict = defaultdict(list)\n",
    "\n",
    "# # Appending values to keys\n",
    "# list_dict['fruits'].append('apple')\n",
    "# list_dict['fruits'].append('banana')\n",
    "# list_dict['vegetables'].append('carrot')\n",
    "\n",
    "# print(list_dict)  # Output: defaultdict(<class 'list'>, {'fruits': ['apple', 'banana'], 'vegetables': ['carrot']})\n"
   ]
  },
  {
   "cell_type": "code",
   "execution_count": null,
   "id": "75cbfb9b-c445-40c1-b975-5ede78cbb176",
   "metadata": {},
   "outputs": [],
   "source": []
  }
 ],
 "metadata": {
  "kernelspec": {
   "display_name": "Python 3 (ipykernel)",
   "language": "python",
   "name": "python3"
  },
  "language_info": {
   "codemirror_mode": {
    "name": "ipython",
    "version": 3
   },
   "file_extension": ".py",
   "mimetype": "text/x-python",
   "name": "python",
   "nbconvert_exporter": "python",
   "pygments_lexer": "ipython3",
   "version": "3.12.7"
  }
 },
 "nbformat": 4,
 "nbformat_minor": 5
}
